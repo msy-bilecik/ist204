{
  "nbformat": 4,
  "nbformat_minor": 0,
  "metadata": {
    "colab": {
      "provenance": [],
      "authorship_tag": "ABX9TyM3m1MDhQJcS5DHhd0qTFuK",
      "include_colab_link": true
    },
    "kernelspec": {
      "name": "python3",
      "display_name": "Python 3"
    },
    "language_info": {
      "name": "python"
    }
  },
  "cells": [
    {
      "cell_type": "markdown",
      "metadata": {
        "id": "view-in-github",
        "colab_type": "text"
      },
      "source": [
        "<a href=\"https://colab.research.google.com/github/msy-bilecik/ist204_2024/blob/main/ist204_10h_vize.ipynb\" target=\"_parent\"><img src=\"https://colab.research.google.com/assets/colab-badge.svg\" alt=\"Open In Colab\"/></a>"
      ]
    },
    {
      "cell_type": "markdown",
      "source": [
        "## TAU Sayısı\n",
        "eğer bir sayı pozitif tam bölenlerinin adedine tam bölünüyorsa TAU sayıdır."
      ],
      "metadata": {
        "id": "WQZYoH3x3FR8"
      }
    },
    {
      "cell_type": "code",
      "execution_count": 3,
      "metadata": {
        "colab": {
          "base_uri": "https://localhost:8080/"
        },
        "id": "I-ye4BlD3ACW",
        "outputId": "68f242f0-b610-46c3-b680-4ccceb477d3e"
      },
      "outputs": [
        {
          "output_type": "stream",
          "name": "stdout",
          "text": [
            "Bir sayı giriniz: 9\n",
            "True\n"
          ]
        }
      ],
      "source": [
        "def tauMu(sayi):\n",
        "    adet=0\n",
        "    for i in range(1,sayi+1):\n",
        "        if(sayi%i==0):\n",
        "            adet+=1\n",
        "\n",
        "    if(sayi%adet==0):\n",
        "        return True\n",
        "\n",
        "    return False\n",
        "\n",
        "sayi=int(input(\"Bir sayı giriniz: \"))\n",
        "print(tauMu(sayi))"
      ]
    },
    {
      "cell_type": "markdown",
      "source": [
        "## sayıları toplayıp ortaya bölme\n",
        "klavyeden sıfır 0 girilene kadar sayıları toplayan ve toplanan sayıları tam ortadaki sayıya bölen program"
      ],
      "metadata": {
        "id": "9hcAcpuG7cnV"
      }
    },
    {
      "cell_type": "code",
      "source": [
        "dizi=[]\n",
        "while(True):\n",
        "    sayi=int(input(\"sayı: \"))\n",
        "    dizi.append(sayi)\n",
        "    if(sayi==0):\n",
        "        break\n",
        "\n",
        "toplam=sum(dizi)\n",
        "ortanca=int(len(dizi)/2)\n",
        "print(ortanca)\n",
        "bolme=toplam/dizi[ortanca]\n",
        "print(bolme)"
      ],
      "metadata": {
        "colab": {
          "base_uri": "https://localhost:8080/"
        },
        "id": "uJu7g5pt7wKL",
        "outputId": "2cffbc9f-fd6e-4019-f5b8-a5fdde284b7b"
      },
      "execution_count": 10,
      "outputs": [
        {
          "output_type": "stream",
          "name": "stdout",
          "text": [
            "sayı: 9\n",
            "sayı: 99\n",
            "sayı: 33\n",
            "sayı: 22\n",
            "sayı: 0\n",
            "2\n",
            "4.9393939393939394\n"
          ]
        }
      ]
    },
    {
      "cell_type": "markdown",
      "source": [
        "## otomatik dizi\n",
        "altsınır üstsınır ve elemansayısı klavyeden girilen rastgele elemanlı bir dizi yap"
      ],
      "metadata": {
        "id": "_fNr-1yH-tJA"
      }
    },
    {
      "cell_type": "code",
      "source": [
        "import random\n",
        "\n",
        "def rastgeleDizi(altsinir,ustsinir,elemanS):\n",
        "    dizi=[]\n",
        "    for i in range(elemanS):\n",
        "        dizi.append(random.randint(altsinir,ustsinir+1))\n",
        "\n",
        "    return dizi\n",
        "\n",
        "altsinir=int(input(\"alt sınır: \"))\n",
        "ustsinir=int(input(\"üst sınır: \"))\n",
        "elemanS=int(input(\"eleman sayısı: \"))\n",
        "\n",
        "print(rastgeleDizi(altsinir,ustsinir,elemanS))"
      ],
      "metadata": {
        "colab": {
          "base_uri": "https://localhost:8080/"
        },
        "id": "Rci4sUOy-s5d",
        "outputId": "99f4787d-2477-40db-b100-b39c136b8d83"
      },
      "execution_count": 11,
      "outputs": [
        {
          "output_type": "stream",
          "name": "stdout",
          "text": [
            "alt sınır: 5\n",
            "üst sınır: 100\n",
            "eleman sayısı: 10\n",
            "[100, 9, 42, 62, 85, 84, 5, 68, 79, 97]\n"
          ]
        }
      ]
    },
    {
      "cell_type": "markdown",
      "source": [
        "## 3 kod çeşidi\n",
        "bir diziyi toplayan normal kod, fonksiyon ve öz yinelemeli fonksiyon yazınız."
      ],
      "metadata": {
        "id": "LZusVgaO_4f9"
      }
    },
    {
      "cell_type": "code",
      "source": [
        "dizi=rastgeleDizi(5,100000000,100000000)\n",
        "\n",
        "toplam=0\n",
        "for i in dizi:\n",
        "    toplam+=i\n",
        "\n",
        "def normalFXToplama(dizi):\n",
        "    toplam=0\n",
        "    for i in dizi:\n",
        "        toplam+=i\n",
        "\n",
        "    return toplam\n",
        "\n",
        "def ozyinelemeToplama(dizi):\n",
        "    if(len(dizi)==1):\n",
        "        return dizi[0]\n",
        "    bir=dizi.pop()\n",
        "    return ozyinelemeToplama(dizi)+bir"
      ],
      "metadata": {
        "colab": {
          "base_uri": "https://localhost:8080/",
          "height": 356
        },
        "id": "_M596tIn-pyk",
        "outputId": "32e8266a-299b-45c6-c697-dbf7e04d0ff8"
      },
      "execution_count": 12,
      "outputs": [
        {
          "output_type": "error",
          "ename": "KeyboardInterrupt",
          "evalue": "",
          "traceback": [
            "\u001b[0;31m---------------------------------------------------------------------------\u001b[0m",
            "\u001b[0;31mKeyboardInterrupt\u001b[0m                         Traceback (most recent call last)",
            "\u001b[0;32m<ipython-input-12-949e7f213206>\u001b[0m in \u001b[0;36m<cell line: 1>\u001b[0;34m()\u001b[0m\n\u001b[0;32m----> 1\u001b[0;31m \u001b[0mdizi\u001b[0m\u001b[0;34m=\u001b[0m\u001b[0mrastgeleDizi\u001b[0m\u001b[0;34m(\u001b[0m\u001b[0;36m5\u001b[0m\u001b[0;34m,\u001b[0m\u001b[0;36m100000000\u001b[0m\u001b[0;34m,\u001b[0m\u001b[0;36m100000000\u001b[0m\u001b[0;34m)\u001b[0m\u001b[0;34m\u001b[0m\u001b[0;34m\u001b[0m\u001b[0m\n\u001b[0m\u001b[1;32m      2\u001b[0m \u001b[0;34m\u001b[0m\u001b[0m\n\u001b[1;32m      3\u001b[0m \u001b[0mtoplam\u001b[0m\u001b[0;34m=\u001b[0m\u001b[0;36m0\u001b[0m\u001b[0;34m\u001b[0m\u001b[0;34m\u001b[0m\u001b[0m\n\u001b[1;32m      4\u001b[0m \u001b[0;32mfor\u001b[0m \u001b[0mi\u001b[0m \u001b[0;32min\u001b[0m \u001b[0mdizi\u001b[0m\u001b[0;34m:\u001b[0m\u001b[0;34m\u001b[0m\u001b[0;34m\u001b[0m\u001b[0m\n\u001b[1;32m      5\u001b[0m     \u001b[0mtoplam\u001b[0m\u001b[0;34m+=\u001b[0m\u001b[0mi\u001b[0m\u001b[0;34m\u001b[0m\u001b[0;34m\u001b[0m\u001b[0m\n",
            "\u001b[0;32m<ipython-input-11-2e6f7b09b159>\u001b[0m in \u001b[0;36mrastgeleDizi\u001b[0;34m(altsinir, ustsinir, elemanS)\u001b[0m\n\u001b[1;32m      4\u001b[0m     \u001b[0mdizi\u001b[0m\u001b[0;34m=\u001b[0m\u001b[0;34m[\u001b[0m\u001b[0;34m]\u001b[0m\u001b[0;34m\u001b[0m\u001b[0;34m\u001b[0m\u001b[0m\n\u001b[1;32m      5\u001b[0m     \u001b[0;32mfor\u001b[0m \u001b[0mi\u001b[0m \u001b[0;32min\u001b[0m \u001b[0mrange\u001b[0m\u001b[0;34m(\u001b[0m\u001b[0melemanS\u001b[0m\u001b[0;34m)\u001b[0m\u001b[0;34m:\u001b[0m\u001b[0;34m\u001b[0m\u001b[0;34m\u001b[0m\u001b[0m\n\u001b[0;32m----> 6\u001b[0;31m         \u001b[0mdizi\u001b[0m\u001b[0;34m.\u001b[0m\u001b[0mappend\u001b[0m\u001b[0;34m(\u001b[0m\u001b[0mrandom\u001b[0m\u001b[0;34m.\u001b[0m\u001b[0mrandint\u001b[0m\u001b[0;34m(\u001b[0m\u001b[0maltsinir\u001b[0m\u001b[0;34m,\u001b[0m\u001b[0mustsinir\u001b[0m\u001b[0;34m+\u001b[0m\u001b[0;36m1\u001b[0m\u001b[0;34m)\u001b[0m\u001b[0;34m)\u001b[0m\u001b[0;34m\u001b[0m\u001b[0;34m\u001b[0m\u001b[0m\n\u001b[0m\u001b[1;32m      7\u001b[0m \u001b[0;34m\u001b[0m\u001b[0m\n\u001b[1;32m      8\u001b[0m     \u001b[0;32mreturn\u001b[0m \u001b[0mdizi\u001b[0m\u001b[0;34m\u001b[0m\u001b[0;34m\u001b[0m\u001b[0m\n",
            "\u001b[0;32m/usr/lib/python3.10/random.py\u001b[0m in \u001b[0;36mrandint\u001b[0;34m(self, a, b)\u001b[0m\n\u001b[1;32m    368\u001b[0m         \"\"\"\n\u001b[1;32m    369\u001b[0m \u001b[0;34m\u001b[0m\u001b[0m\n\u001b[0;32m--> 370\u001b[0;31m         \u001b[0;32mreturn\u001b[0m \u001b[0mself\u001b[0m\u001b[0;34m.\u001b[0m\u001b[0mrandrange\u001b[0m\u001b[0;34m(\u001b[0m\u001b[0ma\u001b[0m\u001b[0;34m,\u001b[0m \u001b[0mb\u001b[0m\u001b[0;34m+\u001b[0m\u001b[0;36m1\u001b[0m\u001b[0;34m)\u001b[0m\u001b[0;34m\u001b[0m\u001b[0;34m\u001b[0m\u001b[0m\n\u001b[0m\u001b[1;32m    371\u001b[0m \u001b[0;34m\u001b[0m\u001b[0m\n\u001b[1;32m    372\u001b[0m \u001b[0;34m\u001b[0m\u001b[0m\n",
            "\u001b[0;32m/usr/lib/python3.10/random.py\u001b[0m in \u001b[0;36mrandrange\u001b[0;34m(self, start, stop, step)\u001b[0m\n\u001b[1;32m    323\u001b[0m         \u001b[0;31m# stop argument supplied.\u001b[0m\u001b[0;34m\u001b[0m\u001b[0;34m\u001b[0m\u001b[0m\n\u001b[1;32m    324\u001b[0m         \u001b[0;32mtry\u001b[0m\u001b[0;34m:\u001b[0m\u001b[0;34m\u001b[0m\u001b[0;34m\u001b[0m\u001b[0m\n\u001b[0;32m--> 325\u001b[0;31m             \u001b[0mistop\u001b[0m \u001b[0;34m=\u001b[0m \u001b[0m_index\u001b[0m\u001b[0;34m(\u001b[0m\u001b[0mstop\u001b[0m\u001b[0;34m)\u001b[0m\u001b[0;34m\u001b[0m\u001b[0;34m\u001b[0m\u001b[0m\n\u001b[0m\u001b[1;32m    326\u001b[0m         \u001b[0;32mexcept\u001b[0m \u001b[0mTypeError\u001b[0m\u001b[0;34m:\u001b[0m\u001b[0;34m\u001b[0m\u001b[0;34m\u001b[0m\u001b[0m\n\u001b[1;32m    327\u001b[0m             \u001b[0mistop\u001b[0m \u001b[0;34m=\u001b[0m \u001b[0mint\u001b[0m\u001b[0;34m(\u001b[0m\u001b[0mstop\u001b[0m\u001b[0;34m)\u001b[0m\u001b[0;34m\u001b[0m\u001b[0;34m\u001b[0m\u001b[0m\n",
            "\u001b[0;31mKeyboardInterrupt\u001b[0m: "
          ]
        }
      ]
    }
  ]
}