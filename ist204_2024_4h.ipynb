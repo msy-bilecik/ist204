{
  "nbformat": 4,
  "nbformat_minor": 0,
  "metadata": {
    "colab": {
      "provenance": [],
      "collapsed_sections": [
        "jlkLaNEVgGar"
      ],
      "authorship_tag": "ABX9TyOfxXFi1mLqfK3o1y22EZMK",
      "include_colab_link": true
    },
    "kernelspec": {
      "name": "python3",
      "display_name": "Python 3"
    },
    "language_info": {
      "name": "python"
    }
  },
  "cells": [
    {
      "cell_type": "markdown",
      "metadata": {
        "id": "view-in-github",
        "colab_type": "text"
      },
      "source": [
        "<a href=\"https://colab.research.google.com/github/msy-bilecik/ist204/blob/main/ist204_2024_4h.ipynb\" target=\"_parent\"><img src=\"https://colab.research.google.com/assets/colab-badge.svg\" alt=\"Open In Colab\"/></a>"
      ]
    },
    {
      "cell_type": "markdown",
      "source": [
        "## listeler"
      ],
      "metadata": {
        "id": "jlkLaNEVgGar"
      }
    },
    {
      "cell_type": "code",
      "execution_count": null,
      "metadata": {
        "colab": {
          "base_uri": "https://localhost:8080/"
        },
        "id": "K5honB4TWaz3",
        "outputId": "ea8c94a3-1b1f-4f59-922b-36038346390e"
      },
      "outputs": [
        {
          "output_type": "stream",
          "name": "stdout",
          "text": [
            "['Hale', 'Jale', 'Lale']\n",
            "3\n",
            "Lale\n",
            "['Hale', 'Jale', 'Lale', 'Arif']\n",
            "['Hale', 'Jale', 'Aleyna', 'Lale', 'Arif']\n",
            "['Hale', 'Jale', 'Aleyna', 'Lale', 'Arif', 'Simovic', 'Jale', 'Prekazi', 'Jardel', 'Nouma', 'Jale']\n",
            "['Hale', 'Jale', 'Aleyna', 'Lale', 'Arif', 'Simovic', 'Jale', 'Prekazi', 'Nouma', 'Jale']\n",
            "['Aleyna', 'Arif', 'Hale', 'Jale', 'Jale', 'Jale', 'Lale', 'Nouma', 'Prekazi', 'Simovic']\n",
            "['Simovic', 'Prekazi', 'Nouma', 'Lale', 'Jale', 'Jale', 'Jale', 'Hale', 'Arif', 'Aleyna']\n",
            "3\n",
            "Arif\n",
            "['Simovic', 'Prekazi', 'Nouma']\n",
            "['Simovic', 'Prekazi', 'Nouma', 'Lale', 'Jale', 'Jale', 'Jale', 'Hale', 'Arif', 'Aleyna', 'ahmet', 'mehmet', 'hasan']\n"
          ]
        }
      ],
      "source": [
        "liste = [\"Hale\", \"Jale\", \"Lale\"]\n",
        "print(liste)\n",
        "print(len(liste))\n",
        "print(liste[2])\n",
        "liste.append(\"Arif\")\n",
        "print(liste)\n",
        "liste.insert(2,\"Aleyna\")\n",
        "print(liste)\n",
        "yeni_liste = [\"Simovic\",\"Jale\", \"Prekazi\", \"Jardel\", \"Nouma\",\"Jale\"]\n",
        "liste.extend(yeni_liste)\n",
        "print(liste)\n",
        "liste.remove(\"Jardel\")\n",
        "print(liste)\n",
        "liste.sort()\n",
        "print(liste)\n",
        "liste.reverse()\n",
        "print(liste)\n",
        "print(liste.count(\"Jale\"))\n",
        "print(liste[-2])\n",
        "print(liste[:3])\n",
        "liste[10:10]=[\"ahmet\",\"mehmet\",\"hasan\"]\n",
        "print(liste)"
      ]
    },
    {
      "cell_type": "code",
      "source": [
        "print(liste.pop())\n",
        "print(liste)"
      ],
      "metadata": {
        "colab": {
          "base_uri": "https://localhost:8080/"
        },
        "id": "11CebceabUG7",
        "outputId": "f5b129c0-e904-47e5-acbe-803c29bfef85"
      },
      "execution_count": null,
      "outputs": [
        {
          "output_type": "stream",
          "name": "stdout",
          "text": [
            "hasan\n",
            "['Simovic', 'Prekazi', 'Nouma', 'Lale', 'Jale', 'Jale', 'Jale', 'Hale', 'Arif', 'Aleyna', 'ahmet', 'mehmet']\n"
          ]
        }
      ]
    },
    {
      "cell_type": "code",
      "source": [
        "kardiz = 'istihza.com'\n",
        "print(kardiz[0])"
      ],
      "metadata": {
        "colab": {
          "base_uri": "https://localhost:8080/"
        },
        "id": "LuWDZz40aqUc",
        "outputId": "f666d515-ce16-478f-86e8-f205107b3add"
      },
      "execution_count": null,
      "outputs": [
        {
          "output_type": "stream",
          "name": "stdout",
          "text": [
            "i\n"
          ]
        }
      ]
    },
    {
      "cell_type": "markdown",
      "source": [
        "## sözlükler"
      ],
      "metadata": {
        "id": "mLuUEmjQgAx-"
      }
    },
    {
      "cell_type": "code",
      "source": [
        "telefon_defteri = {\n",
        "\"Ahmet\": \"0533 123 45 67\",\"Salih\": \"0532 321 54 76\",\n",
        "\"Selin\": \"0533 333 33 33\"\n",
        "}\n",
        "display(telefon_defteri)\n",
        "print(telefon_defteri)\n",
        "print(telefon_defteri[\"Ahmet\"])\n",
        "print([\"Ahmet\"])\n",
        "\n",
        "telefon_defteri[\"Zeki\"] = \"0544 444 01 00\"\n",
        "print(telefon_defteri)\n",
        "\n",
        "ali=\"Ali\"\n",
        "telefon_defteri[ali]=\"0555 555 555 5\"\n",
        "print(telefon_defteri)\n",
        "\n",
        "telefon_defteri[1]=\"112\"\n",
        "print(telefon_defteri)\n"
      ],
      "metadata": {
        "colab": {
          "base_uri": "https://localhost:8080/",
          "height": 201
        },
        "id": "gaFZXs1mf3zN",
        "outputId": "102912f3-0874-48ce-8488-06a8d09a026e"
      },
      "execution_count": null,
      "outputs": [
        {
          "output_type": "display_data",
          "data": {
            "text/plain": [
              "{'Ahmet': '0533 123 45 67',\n",
              " 'Salih': '0532 321 54 76',\n",
              " 'Selin': '0533 333 33 33'}"
            ]
          },
          "metadata": {}
        },
        {
          "output_type": "stream",
          "name": "stdout",
          "text": [
            "{'Ahmet': '0533 123 45 67', 'Salih': '0532 321 54 76', 'Selin': '0533 333 33 33'}\n",
            "0533 123 45 67\n",
            "['Ahmet']\n",
            "{'Ahmet': '0533 123 45 67', 'Salih': '0532 321 54 76', 'Selin': '0533 333 33 33', 'Zeki': '0544 444 01 00'}\n",
            "{'Ahmet': '0533 123 45 67', 'Salih': '0532 321 54 76', 'Selin': '0533 333 33 33', 'Zeki': '0544 444 01 00', 'Ali': '0555 555 555 5'}\n",
            "{'Ahmet': '0533 123 45 67', 'Salih': '0532 321 54 76', 'Selin': '0533 333 33 33', 'Zeki': '0544 444 01 00', 'Ali': '0555 555 555 5', 1: '112'}\n"
          ]
        }
      ]
    },
    {
      "cell_type": "code",
      "source": [
        "del telefon_defteri[\"Selin\"]\n",
        "print(telefon_defteri)\n",
        "telefon_defteri.clear()\n",
        "print(telefon_defteri)\n"
      ],
      "metadata": {
        "colab": {
          "base_uri": "https://localhost:8080/"
        },
        "id": "chO8AalniaKF",
        "outputId": "2ddd06d9-a93c-4a1f-c3eb-df29d197193b"
      },
      "execution_count": null,
      "outputs": [
        {
          "output_type": "stream",
          "name": "stdout",
          "text": [
            "{'Ahmet': '0533 123 45 67', 'Salih': '0532 321 54 76', 'Zeki': '0544 444 01 00', 'Ali': '0555 555 555 5', 1: '112'}\n",
            "{}\n"
          ]
        }
      ]
    },
    {
      "cell_type": "markdown",
      "source": [
        "Rastgele eleman seçme\n",
        "1. Bir stringten rastgele bir karakter seçtirme\n",
        "2. bir stringden belli adette rastgele eleman seçerek yeni kelime yapma\n",
        "3. bir stringden rastgele adette rastgele eleman seçerek yeni kelime yapma\n",
        "4. bir stringten belirlenen elaman sayısı kadar rastgele key ve value üreten kodu yazınız."
      ],
      "metadata": {
        "id": "dYiSf0VMmEsP"
      }
    },
    {
      "cell_type": "code",
      "source": [
        "import random\n",
        "\n",
        "metin=input(\"bir cümle giriniz: \")\n",
        "\n",
        "# i=random.randint(0,len(metin)-1)\n",
        "# print(metin[i])\n",
        "\n",
        "\n",
        "# ## 2. aşama\n",
        "\n",
        "# sayi=5\n",
        "# kelime=\"\"\n",
        "# for i in range(0,sayi):\n",
        "#     i=random.randint(0,len(metin))\n",
        "#     # print(i)\n",
        "#     kelime+=metin[i-1]\n",
        "# print(kelime)\n",
        "\n",
        "\n",
        "# ## 3. aşama\n",
        "\n",
        "# sayi=random.randint(0,len(metin)/2)\n",
        "# print(sayi)\n",
        "# kelime=\"\"\n",
        "# for i in range(0,sayi):\n",
        "#     i=random.randint(0,len(metin)-1)\n",
        "#     # print(i)\n",
        "#     kelime+=metin[i]\n",
        "# print(kelime)\n",
        "\n",
        "\n",
        "## 3. aşama\n",
        "sozluk={}\n",
        "sayi1=random.randint(0,len(metin)-1) ## sözlük eleman olacak.\n",
        "print(sayi1)\n",
        "for ix in range(0,sayi1):\n",
        "    sayi=random.randint(0,len(metin)-1) ## sözlük eleman olacak.\n",
        "    # print(sayi)\n",
        "    key=\"\"\n",
        "    value=\"\"\n",
        "    for i in range(0,5):\n",
        "        i=random.randint(0,len(metin)-1)\n",
        "        # print(i)\n",
        "        key+=metin[i]\n",
        "    for i in range(0,sayi):\n",
        "        i=random.randint(0,len(metin)-1)\n",
        "        # print(i)\n",
        "        value+=metin[i]\n",
        "    # print(key,value)\n",
        "\n",
        "    sozluk[key]=value\n",
        "\n",
        "display(sozluk)"
      ],
      "metadata": {
        "colab": {
          "base_uri": "https://localhost:8080/",
          "height": 1000
        },
        "id": "Gu-0JXTHmCnl",
        "outputId": "98e23abb-d765-4d7c-d003-9d62d241c3e7"
      },
      "execution_count": null,
      "outputs": [
        {
          "output_type": "stream",
          "name": "stdout",
          "text": [
            "bir cümle giriniz: Bir akşamüstü pencerenden bakıyordun Ağır ağır, yollara inen karanlığa. Bana benzeyen biri geçti evinin önünden. Kalbin başladı hızlı hızlı çarpmaya... O geçen ben değildim.\n",
            "54\n"
          ]
        },
        {
          "output_type": "display_data",
          "data": {
            "text/plain": [
              "{' ylyn': 'ebnğtaı  ıblıreağpiy lznia   gg ıienraüoaendeüalıraizaa a ae',\n",
              " 'aednç': ' aem y b i ş ş rii  ainay.a nileakkinzr lm naiiışşe',\n",
              " 'e  . ': 'yndBa rid i çariaişçneztşaedeaKe.mgınbOB ieş mda e taorrdndy a.mşi B iniaineçynçld d ei müKz aın dınlğeraı  rğyb yıl ğeğ y bdüeerh raeaaknıir baçşl pa ğrnni.yç nbsaBaa',\n",
              " ' ao.l': 'trıyinnğ.by bğnO cahza,ngnunienrvnle ab nıhyka  .al eeideaiaArünğakieğbenünia.eleiu rerieiıeyeoaiKpenraçiirnrniaaeı K Kmnıeğ',\n",
              " 'dr çi': 'n y açeaaKçenbarla .lr e eğrşçılb ı ka niaianıKa bğğtnnnnldrleoyrenü eaoıan  nzü eüinydza,ı irvnp.labiyi ry hidçrlbıamöl  közB eeo gd',\n",
              " 'naür ': 'ç  çekhi berka b  a.la nlsn ik. bğ r.poei.drnnlıao  dn piai i e i snde.',\n",
              " 'iKkB ': 'bbedm.r eB ç.ea zzşnenb n,een eyseBç aüçnbrı nryllçeıele eid aihn bırizi.ueyiisnk.rlvriyybv lens l sbsbüra.iykhl i.in çaybrröreyntşnçlkzşnenlıın.ğil.i, raçegçlaçü ria.a.e',\n",
              " 'ra aa': 'rlBuvünirnseüboz iz, eeaiaç.ieaeebaganlnlıe  r ündn cçı csn ğ ğel nğe nlınaenlln,.inBıbciblnıı gpe rK aı pilğrn ğeloaa iaa. aAepmezmlOçeO',\n",
              " 'ür ic': 'p aıçeo nyra übi ddkynrdzueai anO   canndnşğeçomt de vo a izibnarçi ani hsak lı lle ela .iişülnıieni eğaüzKbdııçill agdemi',\n",
              " ' rmag': 'aaeydğeahrnmğurny.ğılşByğibap e ıınşdüğ ıği ııınr',\n",
              " 'in An': 'O lyen  npbeğ,lrağhzpiaiı ',\n",
              " 'aiıaz': 'açnaannmkspameızep ei iğnioplA peBynıBonzn yneşğ enmenzazn.cenşadnnı  aıay rıdaOd  nnrci',\n",
              " 'knneB': 'k işlleiı  ven tnApdeinamğakla',\n",
              " 'nriöe': 'aka.ai ğbğdveb,a.ic rO b ehüdrO.aşhb u anAe.dğüe s  ihezlg ıı.heünrnionğ nlnnakırürnyrıorraizlğmia  antntAğaçoienaba dnağn.dhaarileeedb',\n",
              " 'ra. ğ': 'srdybnrnla   riea  enıgeeüm hmiia mşKu  r.g nnyıan.aoeb',\n",
              " ' şaız': 'aaBina.anrenannız tanll ıc.bBBlKenerphio',\n",
              " 'p ddd': 'e  nad.heKmabö..nıhb.  peaei Oi lıAlaı.eiv  ilraeAdziedAnüd eıyatnısdmlva lngç b irndar',\n",
              " ' ıdel': 'ii nı.dtlooiliadrz.leraern agnnhıaşdbbiirıemaaç elad,',\n",
              " '  ş. ': 'çkeb.ğ piençrd eknnae aie.ü.a rdğçpmaaarBen.rnk la.,ç nenbşehennnıa.ıae n irdi irnerıdvü a ed.v eee  leezpee pr.ıd z and  rağOy oumşd oeç  al',\n",
              " 'lömps': 'iıa  lıBnn e möAev.  üündh.nk  çğüüığimyatslbea yeziy.mdbhr aaaa eeübelaş  yı le iıa l yy rBealişabğea .benrn neenllmnkoı  aımççh nbzerçn ygbıünnnlliıödea n.',\n",
              " 'zee ,': 'Babböninaeşrn ineaeoaüadrbğunAi rırm iynalllnee uy lBa l rhnöly .erçk.me nd ğa.aiaa rıoo arülhl zn, adeaı',\n",
              " '  lıB': 'l ye  egbn anin alnaaarg alde ü.ı erc,nlepıniaü ii ğnü n neşreiealıKldclyaoedüçKın..attulaB aıypynobnrazar ',\n",
              " 'aaıça': 'eçdııa nmlanğniünı  lki iti.Akddna üıeeya ı iiğrBl s dlal  nsdia amrtğenern  mlaiad ,g.n .açnnhğıan ',\n",
              " 'ıek e': 'a y .ü teıKbiğiaonlnırKtçonm.esdaydi.tbğ i.b',\n",
              " 'ğlels': 'eeneğan nsı sklltiaıb ntkiıçaailıaçrlllegnşea eymaınpıı ivAğedadd nen  al nodrrçdmşzea nkp ğ, yğb  rıaeeçhe eiemnüag kı nr rerdğceev oıyennıei endbn ddk ranirntnkri bdalnç',\n",
              " 'kş ea': 'onannnnn.şnıea ğa rnooainaynıa y..alağaobipınanynnn uamrA ğrşBBür in üğiinnrıdğymiş.aAbb z  zeag, lkihBd yküb.',\n",
              " 'ea.ıl': 'r n .idnü inpdkpeAdnyım aa l e hğp nanaaağrnsz lrn',\n",
              " 'blbnz': 'dyhn üıbalb zlgydeehknKb ezyKçyrmb ndmnaaes i i.ee ııarnn iüyy e  arglnbBa pe  Bebıyzğeçğa ğ aaeeiahnlaıeın,paimaeğri kışrğnlBdğensaeı aüzaym.. lr',\n",
              " 'ıyana': '',\n",
              " 'nba i': 'd mbcmtlüd le nüaçyç.şa  ua. KenğadKlevıkntln',\n",
              " 'mnç d': ' ınçlıa.başce m.  syo .klüeelgadec tz i.kanavna. leeoşbaeazngaaömiad yç üaçıeais  hiı etnıy yileeneviyözngözeçek',\n",
              " '  .y ': 'an itğrryann ıengmy zaamçOa nylnşnrlr. lıııaiıeıa.ıy nöılaiyşüreşaigBoprAknnnnmedd..i',\n",
              " 'ela a': ' dnılai. zirn Oülçümv yppnığOdınh ıdıne,zçn.şbeşeO .BeKadnaeymğaai bançişnnnş anzaaa  pAbmnz. vll nindnibde dcr la e arenbhanlnl dr, nşlnnr li rs  aüşglnüğrçneıynnyl ',\n",
              " 'ai.Ai': 'p ninıc  t,rnupnan  üzı ',\n",
              " 'nü.d ': 'büeneaneai Ki ainazennğgeğ n v e  gerüdauağnBşgrnl şB eaaepornrlıoln   lınninllnıcıBe mnknpnblzaaOpr ğe nbrbıaaad.yeelğğ',\n",
              " 'ş chl': 'grçbdnınni mBpin.na tnnaiad B  ıa  kznn niın lranç  d. haOz b e cneeye  yeğnanhn,rentr şizçi şıy uneblkln.eOmı lb iyranennıçoznrıl bkbciardal.nh öşaeu. mznyaıvd ği ztlebo r',\n",
              " 'cebdy': 'üi ınrnmnnzlddnğrdralynğ ltz ppe.nkizpıByşgüdşasğabllrll een  bı a.nnnşdeçee.grdnn ıyic ı n.eOb,tçasb ğabae',\n",
              " 'doadd': '.ınribvniğe ıkzO.enbeçi üğaüıög.oğaebirn t nr eriripnakeaartmannynba.aabnyazhrgbltıl üeün ıyaapnl.ıdhn.rake  me sBnbn im',\n",
              " 'ı nn,': ',Kıriüar in.ş nan n  gbBtagadelğd abdl rlaıiııbaeğlrnıagrşn  i.epgş iba.bnınışn.ezBarı A elarthıliibk nn',\n",
              " 'r.r  ': 'bdnaaneömekllaanerase.a .üb.le ai ayzıieğaeısandrezğzğ eiğ aeşBkildml amk. lış ieğcaeyBeğiıkarednübaşiea  dğrarddçrrnrğtaz r',\n",
              " 'neöeO': 'iAaolıarçinmyrıneeçnça ilemy',\n",
              " 'ern b': 'rgieinmiçnrielkd.ğı.ie.kylsrazçı.ryri ş  nıirob',\n",
              " 'en ra': 'rymülrannsğa nanirchecv. üarBevaçkçğaa aç,bnıee BrO lr ğpmarn ğbo.r biabdğenne',\n",
              " 'ak.yn': 'udneı.yrayliknbynhunçalnmnn',\n",
              " 'güeıl': 'abe  uei   nbl i miamo bd llpzsBnndaikalh.gaiaonnçree.üz.inlgananna AbKbdgond nbagzğ.e ınaernıgaıaaynrBe önboınl.ğnyplca.eeeıbvna  nnşa',\n",
              " 'gçbyp': 'ildbnrn d ie nielenbiiliOibn ığarbğiıe aç eabnlernıalnkno teiKr ar adytlyan.ap np mtinra aı aüozdbbnşni y nna.ğnnes.siadnr  ünrı nemağler',\n",
              " '   vı': 'heaıeiy boröıeiıçvnndıbaülnera.m bpnnüıeınlair en.iadlaee aibınema ğb K no Be rnninnia iagnadbdsn  ııbhdynaykılşant  maıenizğn ni yınlçll.branllh iör ebne',\n",
              " ' .bd.': 'rebryaeb şebeyaielennao rn ıanıaKaalaü çirnııiiikzzlaByı',\n",
              " ' oü  ': 'ö nnr.rıeher oy ııdBasbzngırAl e',\n",
              " ' lçcB': 'nieeyp erh a.rb.nn.ii  a  oraz aıher ',\n",
              " 'naanğ': 'gpaag i iaığg   röryKy nhe çla aB e .Oel.knibdrB rünanidaıı ,ürkaeeebiçğk naaabı   aab punu anydeeyş aBtımalerğeoaalr gç y  ehll ie.svh rraağğcklım.e',\n",
              " ' reaz': ' b',\n",
              " 'ülein': 'n aBmrşzdınnben rbi neaynlanypoaçiebeKndnedanliüöşkraeryi  zepodee ıınğça,nmipahngaaedeııiamahğşbadl.liic ep nğdcl nıaimedm gK.ndçnbaied.epğ..nrğa lB',\n",
              " 'lr ük': ' n.'}"
            ]
          },
          "metadata": {}
        }
      ]
    },
    {
      "cell_type": "markdown",
      "source": [
        "1 ile 20 arasında sayılardan oluşan 50 elemanlı bir dizi üretiniz.\n",
        "\n",
        "hangi elemandan kaç tane olduğunu (frekans) bulan kodu yazınız."
      ],
      "metadata": {
        "id": "3ySjPOOOs4SH"
      }
    },
    {
      "cell_type": "code",
      "source": [
        "import random\n",
        "dizi=[]\n",
        "\n",
        "for i in range(0,50):\n",
        "    dizi.append(random.randint(1,21))\n",
        "\n",
        "print(dizi)"
      ],
      "metadata": {
        "colab": {
          "base_uri": "https://localhost:8080/"
        },
        "id": "jBIdrhwmrrsq",
        "outputId": "e26b0532-5216-4b1b-80cd-11a83e54f796"
      },
      "execution_count": null,
      "outputs": [
        {
          "output_type": "stream",
          "name": "stdout",
          "text": [
            "[14, 16, 4, 9, 5, 12, 3, 9, 11, 10, 4, 12, 17, 10, 13, 13, 7, 16, 8, 3, 1, 6, 12, 3, 19, 4, 6, 17, 7, 4, 1, 10, 11, 16, 12, 9, 19, 16, 7, 10, 6, 6, 10, 17, 7, 4, 7, 10, 21, 8]\n"
          ]
        }
      ]
    },
    {
      "cell_type": "code",
      "source": [
        "dizi=[random.randint(0,100) for i in range(0,50)]\n"
      ],
      "metadata": {
        "id": "N210r7pyv64z"
      },
      "execution_count": null,
      "outputs": []
    },
    {
      "cell_type": "code",
      "source": [
        "freq={}\n",
        "\n",
        "for i in dizi:\n",
        "    if i in freq:\n",
        "        freq[i]+=1\n",
        "    else:\n",
        "        freq[i]=1\n",
        "\n",
        "print(dizi)\n",
        "print(freq)"
      ],
      "metadata": {
        "colab": {
          "base_uri": "https://localhost:8080/"
        },
        "id": "wdVSkwcfwpHe",
        "outputId": "61acd081-e5ef-47e3-ae7e-0e9fd5d7eafe"
      },
      "execution_count": null,
      "outputs": [
        {
          "output_type": "stream",
          "name": "stdout",
          "text": [
            "[66, 59, 62, 97, 23, 60, 57, 82, 95, 96, 30, 99, 67, 96, 71, 81, 16, 52, 78, 60, 36, 38, 31, 97, 31, 81, 17, 85, 4, 39, 86, 56, 21, 22, 30, 48, 30, 33, 8, 77, 94, 76, 10, 54, 23, 58, 65, 46, 27, 97]\n",
            "{66: 1, 59: 1, 62: 1, 97: 3, 23: 2, 60: 2, 57: 1, 82: 1, 95: 1, 96: 2, 30: 3, 99: 1, 67: 1, 71: 1, 81: 2, 16: 1, 52: 1, 78: 1, 36: 1, 38: 1, 31: 2, 17: 1, 85: 1, 4: 1, 39: 1, 86: 1, 56: 1, 21: 1, 22: 1, 48: 1, 33: 1, 8: 1, 77: 1, 94: 1, 76: 1, 10: 1, 54: 1, 58: 1, 65: 1, 46: 1, 27: 1}\n"
          ]
        }
      ]
    },
    {
      "cell_type": "code",
      "source": [
        "dizi=[random.randint(0,100) for i in range(0,50)]\n",
        "\n",
        "max=dizi[0]\n",
        "max2=dizi[0]\n",
        "min=dizi[0]\n",
        "min2=dizi[0]\n",
        "adet=0\n",
        "for i in dizi:\n",
        "    t+=i\n",
        "\n",
        "    if(i%2==0):\n",
        "        adet+=1\n",
        "\n",
        "    if(i>max2):\n",
        "        if(i>max):\n",
        "            max2=max\n",
        "            max=i\n",
        "        else:\n",
        "            max2=i\n",
        "\n",
        "\n",
        "\n",
        "    if(i<min2):\n",
        "        if(i<min):\n",
        "            min2=min\n",
        "            min=i\n",
        "        else:\n",
        "            min2=i\n",
        "\n",
        "\n",
        "print(t,max,max2,min,min2,adet,t/50,sep=\" - \")\n",
        "\n"
      ],
      "metadata": {
        "colab": {
          "base_uri": "https://localhost:8080/"
        },
        "id": "SuOAUAv64PhL",
        "outputId": "d329cb0c-384a-43c5-c333-d108d8eee359"
      },
      "execution_count": null,
      "outputs": [
        {
          "output_type": "stream",
          "name": "stdout",
          "text": [
            "7139959 - 98 - 95 - 3 - 6 - 22 - 142799.18\n"
          ]
        }
      ]
    },
    {
      "cell_type": "code",
      "source": [
        "ogrenciler={}\n",
        "\n",
        "while True:\n",
        "    no=input(\"öğrencinin numarasını giriniz: \")\n",
        "    ad=input(\"öğrencinin adını giriniz: \")\n",
        "    ogrenciler[no]=ad\n",
        "    cevap=input(\"yeni kayıt eklemek istiyormusunuz? [E/H]\")\n",
        "    if not(cevap in [\"E\",\"e\"]):\n",
        "        break\n",
        "display(ogrenciler)"
      ],
      "metadata": {
        "colab": {
          "base_uri": "https://localhost:8080/",
          "height": 200
        },
        "id": "ll-3hQCW70uc",
        "outputId": "3cbe3fef-34ca-4295-9d78-1066ff100b23"
      },
      "execution_count": null,
      "outputs": [
        {
          "name": "stdout",
          "output_type": "stream",
          "text": [
            "öğrencinin numarasını giriniz: 88\n",
            "öğrencinin adını giriniz: nazım\n",
            "yeni kayıt eklemek istiyormusunuz? [E/H]E\n",
            "öğrencinin numarasını giriniz: 99\n",
            "öğrencinin adını giriniz: kazım\n",
            "yeni kayıt eklemek istiyormusunuz? [E/H]E\n",
            "öğrencinin numarasını giriniz: 77\n",
            "öğrencinin adını giriniz: azım\n",
            "yeni kayıt eklemek istiyormusunuz? [E/H]\n"
          ]
        },
        {
          "output_type": "display_data",
          "data": {
            "text/plain": [
              "{'88': 'nazım', '99': 'kazım', '77': 'azım'}"
            ]
          },
          "metadata": {}
        }
      ]
    },
    {
      "cell_type": "code",
      "source": [
        "def listeDuzenli(dizi):\n",
        "    for key,value in dizi.items():\n",
        "        print(key,value,sep=\" ==> \")\n",
        "\n",
        "listeDuzenli(ogrenciler)"
      ],
      "metadata": {
        "colab": {
          "base_uri": "https://localhost:8080/"
        },
        "id": "cMK_hti39tA1",
        "outputId": "22c5b11f-1ce4-4d3a-e8db-2fcab4516119"
      },
      "execution_count": null,
      "outputs": [
        {
          "output_type": "stream",
          "name": "stdout",
          "text": [
            "88 ==> nazım\n",
            "99 ==> kazım\n",
            "77 ==> azım\n"
          ]
        }
      ]
    }
  ]
}