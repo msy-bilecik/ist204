{
  "nbformat": 4,
  "nbformat_minor": 0,
  "metadata": {
    "colab": {
      "provenance": [],
      "include_colab_link": true
    },
    "kernelspec": {
      "name": "python3",
      "display_name": "Python 3"
    },
    "language_info": {
      "name": "python"
    }
  },
  "cells": [
    {
      "cell_type": "markdown",
      "metadata": {
        "id": "view-in-github",
        "colab_type": "text"
      },
      "source": [
        "<a href=\"https://colab.research.google.com/github/msy-bilecik/ist204/blob/main/ist204_2024_5h.ipynb\" target=\"_parent\"><img src=\"https://colab.research.google.com/assets/colab-badge.svg\" alt=\"Open In Colab\"/></a>"
      ]
    },
    {
      "cell_type": "code",
      "execution_count": null,
      "metadata": {
        "colab": {
          "base_uri": "https://localhost:8080/"
        },
        "id": "xb8siozUQ9YE",
        "outputId": "4c5f5a43-1c82-4cd2-f0a7-0feb0129942c"
      },
      "outputs": [
        {
          "output_type": "stream",
          "name": "stdout",
          "text": [
            "bir sayı giriniz: 5\n",
            "bir sayı daha giriniz: 9\n",
            "5+9=14\n"
          ]
        }
      ],
      "source": [
        "a=int(input(\"bir sayı giriniz: \"))\n",
        "b=int(input(\"bir sayı daha giriniz: \"))\n",
        "\n",
        "c=a+b\n",
        "\n",
        "print(\"{}+{}={}\".format(a,b,c))"
      ]
    },
    {
      "cell_type": "code",
      "source": [
        "def ikisayiTopla():\n",
        "    a=int(input(\"bir sayı giriniz: \"))\n",
        "    b=int(input(\"bir sayı daha giriniz: \"))\n",
        "\n",
        "    c=a+b\n",
        "\n",
        "    print(\"{}+{}={}\".format(a,b,c))"
      ],
      "metadata": {
        "id": "0gWYdb-gRZ6w"
      },
      "execution_count": null,
      "outputs": []
    },
    {
      "cell_type": "code",
      "source": [
        "ikisayiTopla()\n"
      ],
      "metadata": {
        "colab": {
          "base_uri": "https://localhost:8080/"
        },
        "id": "rqDVIVZnRom4",
        "outputId": "bfbe4ece-ada4-4b3b-edfb-6d21317df073"
      },
      "execution_count": null,
      "outputs": [
        {
          "output_type": "stream",
          "name": "stdout",
          "text": [
            "bir sayı giriniz: 44\n",
            "bir sayı daha giriniz: 11\n",
            "44+11=55\n",
            "178\n"
          ]
        }
      ]
    },
    {
      "cell_type": "code",
      "source": [
        "\n",
        "def solDuzUcgen(a):\n",
        "    i=0\n",
        "    while(i<a):\n",
        "        t=0\n",
        "        while(t<=i):\n",
        "            print(\"*\",end=\" \")\n",
        "            t+=1\n",
        "        print()\n",
        "        i+=1\n",
        "\n",
        "def solTersUcgen(a):\n",
        "    i=a\n",
        "    while(i>0):\n",
        "        t=0\n",
        "        while(t<i):\n",
        "            print(\"*\",end=\" \")\n",
        "            t+=1\n",
        "        print()\n",
        "        i-=1\n",
        "\n",
        "def sagTersUcgen(a):\n",
        "    i=a\n",
        "    while(i>0):\n",
        "        t=0\n",
        "        while(t<(a-i)):\n",
        "            print(\" \",end=\" \")\n",
        "            t+=1\n",
        "        t=0\n",
        "        while(t<i):\n",
        "            print(\"*\",end=\" \")\n",
        "            t+=1\n",
        "        print()\n",
        "        i-=1\n",
        "\n",
        "def sagDuzUcgen(a):\n",
        "    i=0\n",
        "    while(i<a):\n",
        "        t=0\n",
        "        while(t<(a-i-1)):\n",
        "            print(\" \",end=\" \")\n",
        "            t+=1\n",
        "        t=0\n",
        "        while(t<=i):\n",
        "            print(\"*\",end=\" \")\n",
        "            t+=1\n",
        "        print()\n",
        "        i+=1"
      ],
      "metadata": {
        "id": "wEERytqoRu1q"
      },
      "execution_count": null,
      "outputs": []
    },
    {
      "cell_type": "code",
      "source": [],
      "metadata": {
        "id": "SSIsVV4Vla4y"
      },
      "execution_count": null,
      "outputs": []
    },
    {
      "cell_type": "code",
      "source": [
        "sayi=int(input(\"bir sayı giriniz: \"))\n",
        "sagDuzUcgen(sayi)\n"
      ],
      "metadata": {
        "colab": {
          "base_uri": "https://localhost:8080/"
        },
        "id": "K8cf98PxVtpO",
        "outputId": "335a65de-24a7-4e02-87f2-309001387712"
      },
      "execution_count": null,
      "outputs": [
        {
          "output_type": "stream",
          "name": "stdout",
          "text": [
            "bir sayı giriniz: 3\n",
            "    * \n",
            "  * * \n",
            "* * * \n"
          ]
        }
      ]
    },
    {
      "cell_type": "code",
      "source": [
        "def merhaba():\n",
        "    print(\"merhaba dünya!\")"
      ],
      "metadata": {
        "id": "HjucUrEWXaC3"
      },
      "execution_count": null,
      "outputs": []
    },
    {
      "cell_type": "code",
      "source": [
        "merhaba()"
      ],
      "metadata": {
        "colab": {
          "base_uri": "https://localhost:8080/"
        },
        "id": "_doR8bNgXi_8",
        "outputId": "3984616f-edef-4aaa-e9e0-df6e5695963c"
      },
      "execution_count": null,
      "outputs": [
        {
          "output_type": "stream",
          "name": "stdout",
          "text": [
            "merhaba dünya!\n"
          ]
        }
      ]
    },
    {
      "cell_type": "code",
      "source": [
        "def selamla(isim):\n",
        "    print(\"Merhaba {}\".format(isim))\n",
        "\n",
        "selamla(\"egemen,berat,furkan,emre ara 10 dakka değilmiydi\")"
      ],
      "metadata": {
        "colab": {
          "base_uri": "https://localhost:8080/"
        },
        "id": "esZUdPP5b7At",
        "outputId": "40f6cdb4-4d1f-4afb-8db6-8f3ef874cab6"
      },
      "execution_count": null,
      "outputs": [
        {
          "output_type": "stream",
          "name": "stdout",
          "text": [
            "Merhaba egemen,berat,furkan,emre ara 10 dakka değilmiydi\n"
          ]
        }
      ]
    },
    {
      "cell_type": "code",
      "source": [
        "def topla(sayi1,sayi2):\n",
        "    c=sayi1+sayi2\n",
        "    print(\"{} + {} = {}\".format(sayi1,sayi2,c))\n",
        "\n",
        "topla(3,5)"
      ],
      "metadata": {
        "colab": {
          "base_uri": "https://localhost:8080/"
        },
        "id": "6V9TdHGTcdxf",
        "outputId": "7cc86649-f383-4f85-cd47-670376d32eb8"
      },
      "execution_count": null,
      "outputs": [
        {
          "output_type": "stream",
          "name": "stdout",
          "text": [
            "3 + 5 = 8\n"
          ]
        }
      ]
    },
    {
      "cell_type": "code",
      "source": [
        "def toplaYeni(s1,s2):\n",
        "    c=s1+s2\n",
        "    return c\n",
        "\n",
        "print(toplaYeni(3,6))\n",
        "print(toplaYeni(99,33))\n",
        "\n",
        "print(toplaYeni(1,toplaYeni(6,toplaYeni(9,toplaYeni(12,15)))))"
      ],
      "metadata": {
        "colab": {
          "base_uri": "https://localhost:8080/"
        },
        "id": "-wctAyCohI9l",
        "outputId": "98c9c18a-5b5a-4777-a43e-659ecc0f1363"
      },
      "execution_count": null,
      "outputs": [
        {
          "output_type": "stream",
          "name": "stdout",
          "text": [
            "9\n",
            "132\n",
            "43\n"
          ]
        }
      ]
    },
    {
      "cell_type": "code",
      "source": [
        "def isimYaz(ad,soyad):\n",
        "    print(ad,soyad,sep=\" \")\n",
        "\n",
        "isimYaz(\"burak\",\"çıbık\")"
      ],
      "metadata": {
        "colab": {
          "base_uri": "https://localhost:8080/"
        },
        "id": "rKvEDX2ScxnP",
        "outputId": "40767967-58cd-4eb2-c19d-5181e659270b"
      },
      "execution_count": null,
      "outputs": [
        {
          "output_type": "stream",
          "name": "stdout",
          "text": [
            "mola 10 dakkaydı burak çıbık\n"
          ]
        }
      ]
    },
    {
      "cell_type": "code",
      "source": [
        "def diziTopla(dizi):\n",
        "    t=0\n",
        "    for i in dizi:\n",
        "        t+=i\n",
        "    print(t)\n",
        "\n",
        "\n",
        "sayilar = [45, 90, 43]\n",
        "diziTopla(sayilar)\n",
        "\n",
        "diziTopla([33,25])\n",
        "topla(33,25)\n"
      ],
      "metadata": {
        "colab": {
          "base_uri": "https://localhost:8080/"
        },
        "id": "-9OD9l3Adw2V",
        "outputId": "38abf349-65ee-440b-8053-4d648809c928"
      },
      "execution_count": null,
      "outputs": [
        {
          "output_type": "stream",
          "name": "stdout",
          "text": [
            "178\n",
            "58\n",
            "33 + 25 = 58\n"
          ]
        }
      ]
    },
    {
      "cell_type": "code",
      "source": [
        "import math\n",
        "\n",
        "def alanHesapla(r=1):\n",
        "    alan=math.pi*r*r;\n",
        "\n",
        "    print(alan)\n",
        "\n",
        "alanHesapla(3)\n",
        "\n",
        "alanHesapla(5)\n",
        "\n",
        "alanHesapla()"
      ],
      "metadata": {
        "colab": {
          "base_uri": "https://localhost:8080/"
        },
        "id": "r3vurplpepbE",
        "outputId": "8fb78b40-5df2-4d4f-8da5-d40a2b7d0c2e"
      },
      "execution_count": null,
      "outputs": [
        {
          "output_type": "stream",
          "name": "stdout",
          "text": [
            "28.274333882308138\n",
            "78.53981633974483\n",
            "3.141592653589793\n"
          ]
        }
      ]
    },
    {
      "cell_type": "code",
      "source": [
        "def ortHesapla(vize,odev,fnl,va=0.4,oa=0.2,fa=0.4):\n",
        "\n",
        "    if(va+oa+fa != 1):\n",
        "        fa=1-va-oa\n",
        "    ort=vize*va+odev*oa+fnl*fa;\n",
        "    print(ort)\n",
        "\n",
        "ortHesapla(odev=15,vize=25,fnl=90,va=0.1)"
      ],
      "metadata": {
        "colab": {
          "base_uri": "https://localhost:8080/"
        },
        "id": "EnbYzgxffTJT",
        "outputId": "1c85f69f-575e-4420-b663-6d6a14019d12"
      },
      "execution_count": null,
      "outputs": [
        {
          "output_type": "stream",
          "name": "stdout",
          "text": [
            "68.5\n"
          ]
        }
      ]
    },
    {
      "cell_type": "code",
      "source": [
        "def alanHesaplaYeni(r=1):\n",
        "    alan=math.pi*r*r;\n",
        "    return alan\n",
        "\n",
        "print(alanHesaplaYeni(7))"
      ],
      "metadata": {
        "colab": {
          "base_uri": "https://localhost:8080/"
        },
        "id": "WSN9OkkEh-Il",
        "outputId": "a59db50a-6487-4bfc-d4c7-3f02aa073cc6"
      },
      "execution_count": null,
      "outputs": [
        {
          "output_type": "stream",
          "name": "stdout",
          "text": [
            "153.93804002589985\n"
          ]
        }
      ]
    },
    {
      "cell_type": "markdown",
      "source": [
        "Soru 1) 1 den klavyeden girilen sayıya kadar olan\n",
        "mükemmel sayıları listeleyen programı yazınız\n",
        "\n",
        "Mükemmel Sayı: kendisi hariç tam bölenlerinin toplamına eşit olan sayıdır.\n",
        "\n",
        "1. bir sayının mükemmel olup olmadığını bulan fonksiyon\n",
        "2. 1'den n kadar tüm sayıları mükemmel mi diye bakmanız lazım."
      ],
      "metadata": {
        "id": "BXaCa2VZij4R"
      }
    },
    {
      "cell_type": "markdown",
      "source": [
        "Soru 2) klavyeden girilen sayının tam bölenlerini listeleyen program"
      ],
      "metadata": {
        "id": "1aKf9bDfi4ig"
      }
    },
    {
      "cell_type": "markdown",
      "source": [
        "Soru 3) Klavyeden girilen sayının asal olup olmadığını bulan program"
      ],
      "metadata": {
        "id": "CDlrqa6HjCKk"
      }
    },
    {
      "cell_type": "code",
      "source": [
        "def sayiAl():\n",
        "    sayi=int(input(\"bir sayı giriniz: \"))\n",
        "    return sayi\n",
        "\n",
        "def tamBolenler(sayi):\n",
        "    tambolenler=[]\n",
        "    i=1\n",
        "    while(i<=sayi):\n",
        "        if(sayi%i==0):\n",
        "        # print(i)\n",
        "            tambolenler.append(i)\n",
        "        i+=1\n",
        "\n",
        "    return tambolenler\n",
        "\n",
        "def diziTopla(dizi):\n",
        "    t=0\n",
        "    for i in dizi:\n",
        "        t+=i\n",
        "    return t\n"
      ],
      "metadata": {
        "id": "0esuw3DLiN82"
      },
      "execution_count": null,
      "outputs": []
    },
    {
      "cell_type": "code",
      "source": [
        "sayi=sayiAl()\n",
        "tambolenler=tamBolenler(sayi)\n",
        "toplam=diziTopla(tambolenler)\n",
        "\n",
        "if(toplam==sayi*2):\n",
        "    print(\"mükemmel bir sayı\")\n",
        "else:\n",
        "    print(\"mükemmel olmayan bir sayı\")\n",
        "\n",
        "\n",
        "\n",
        "print(tambolenler)\n",
        "print(toplam)"
      ],
      "metadata": {
        "colab": {
          "base_uri": "https://localhost:8080/"
        },
        "id": "p7JM3ux6lhWK",
        "outputId": "22ed3111-149f-48b3-fd6e-a4b92319ec52"
      },
      "execution_count": null,
      "outputs": [
        {
          "output_type": "stream",
          "name": "stdout",
          "text": [
            "bir sayı giriniz: 6\n",
            "mükemmel bir sayı\n",
            "[1, 2, 3, 6]\n",
            "12\n"
          ]
        }
      ]
    }
  ]
}