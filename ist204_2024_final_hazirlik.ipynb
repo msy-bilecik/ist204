{
  "nbformat": 4,
  "nbformat_minor": 0,
  "metadata": {
    "colab": {
      "provenance": [],
      "authorship_tag": "ABX9TyOrBlMDdY4q4QG3cxaZESZj",
      "include_colab_link": true
    },
    "kernelspec": {
      "name": "python3",
      "display_name": "Python 3"
    },
    "language_info": {
      "name": "python"
    }
  },
  "cells": [
    {
      "cell_type": "markdown",
      "metadata": {
        "id": "view-in-github",
        "colab_type": "text"
      },
      "source": [
        "<a href=\"https://colab.research.google.com/github/msy-bilecik/ist204_2024/blob/main/ist204_2024_final_hazirlik.ipynb\" target=\"_parent\"><img src=\"https://colab.research.google.com/assets/colab-badge.svg\" alt=\"Open In Colab\"/></a>"
      ]
    },
    {
      "cell_type": "markdown",
      "source": [
        "## Örnek sorular ve çözümleri"
      ],
      "metadata": {
        "id": "6jxiYHXSDkif"
      }
    },
    {
      "cell_type": "markdown",
      "source": [
        "1) bir dersten vize notu %v, ödev notu %o, final notu %f ağırlığa sahiptir. Dersten kalma geçme şartları final notunun en az 50, ortalamanın da en az 60 olmasıdır.\n",
        "\n",
        "Öğrencinin v,o değerleri ile (0-100 arasında) (f değeri 100-v-o ile hesaplanacak), vize ve ödev notu klavyeden girildiğinde finalden kaç alırsa geçeceğini hesaplayan programı yazınız.\n",
        "\n",
        "fonksiyon ile çözüm + puandır."
      ],
      "metadata": {
        "id": "LxiJ-6QhDpAk"
      }
    },
    {
      "cell_type": "code",
      "execution_count": 13,
      "metadata": {
        "colab": {
          "base_uri": "https://localhost:8080/"
        },
        "id": "xA-rsX9MDgIL",
        "outputId": "960355f9-f777-4328-996c-4326e452f65a"
      },
      "outputs": [
        {
          "output_type": "stream",
          "name": "stdout",
          "text": [
            "Vizenin ağırlığını (0-100 arası) giriniz: 40\n",
            "Ödev ağırlığını (0-100 arası) giriniz: 20\n",
            "Öğrencinin vize notunu (0-100 arası) giriniz: 0\n",
            "Öğrencinin ödev notunu (0-100 arası) giriniz: 100\n",
            "40\n",
            "62.5\n"
          ]
        }
      ],
      "source": [
        "v=int(input(\"Vizenin ağırlığını (0-100 arası) giriniz: \"))\n",
        "o=int(input(\"Ödev ağırlığını (0-100 arası) giriniz: \"))\n",
        "f=100-v-o\n",
        "\n",
        "Vize=int(input(\"Öğrencinin vize notunu (0-100 arası) giriniz: \"))\n",
        "Odev=int(input(\"Öğrencinin ödev notunu (0-100 arası) giriniz: \"))\n",
        "\n",
        "t=Vize*v/100+Odev*o/100;\n",
        "print(f)\n",
        "Final=((45-t)/f)*100\n",
        "\n",
        "if(Final<50):\n",
        "    Final=50\n",
        "else:\n",
        "    Final=Final\n",
        "\n",
        "print(Final)"
      ]
    },
    {
      "cell_type": "markdown",
      "source": [
        "Bir ATM için yazılım üretilmesi gerekmektedir. ATM cihazında 20₺, 50₺, 100₺ ve 200₺ banknotlar kullanılmaktadır. Yazılımın büyük banknotlar öncelikli olmak üzere hangi banknottan kaç tane kullanılarak istenilen paranın verilebileceğini belirlemesi, aynı zamanda bu banknotlar ile ödenemeyecek miktar girilirse uygunsuz olduğunu belirlemesi gerekmektedir. Bu işlemi yapacak program kodunu yazınız."
      ],
      "metadata": {
        "id": "03EFJAHMHKQ8"
      }
    },
    {
      "cell_type": "code",
      "source": [
        "def Reverse(lst):\n",
        "   new_lst = lst[::-1]\n",
        "   return new_lst"
      ],
      "metadata": {
        "id": "wttI3SlLPntU"
      },
      "execution_count": 21,
      "outputs": []
    },
    {
      "cell_type": "code",
      "source": [
        "tutar=int(input(\"Tutar: \"))\n",
        "banknotlar=[200,100,50,20]\n",
        "sonuc={}\n",
        "for banknot in banknotlar:\n",
        "    sonuc[banknot] = tutar // banknot\n",
        "    tutar%=banknot\n",
        "\n",
        "if tutar >= 0:\n",
        "    print(\"çözülebilir.\")\n",
        "else:\n",
        "    for banknot in banknotlar:\n",
        "      print(banknot, \"TL\", sonuc[banknot])\n"
      ],
      "metadata": {
        "colab": {
          "base_uri": "https://localhost:8080/"
        },
        "id": "bU6q6AwuHMkS",
        "outputId": "72688932-9ebc-4ecf-ffd2-d6e03fface26"
      },
      "execution_count": 23,
      "outputs": [
        {
          "output_type": "stream",
          "name": "stdout",
          "text": [
            "Tutar: 710\n",
            "uygundeğil\n"
          ]
        }
      ]
    },
    {
      "cell_type": "markdown",
      "source": [
        "Klavyeden girilen 10’luk sayı sistemindeki (desimal) bir sayısı 2’lik sayı sistemine dönüştüren programı yazınız. Ayrıca bu işlemi yapan kodu fonksiyon olarak ve öz yinelemeli fonksiyon olarak yazınız. (Program 10P, Fonksiyon 10P, Öz Yinelemeli +10P )\n",
        "\n",
        "5/2 == 1\n",
        "    2/2 == 0\n",
        "        1\n",
        "    101\n",
        "    //////////////////\n",
        "11 / 2 == 1\n",
        "    5 / 2 ==1\n",
        "       2/2 == 0\n",
        "         1\n",
        "         1011"
      ],
      "metadata": {
        "id": "_OaOr4qmQcAY"
      }
    },
    {
      "cell_type": "code",
      "source": [
        "sayi=int(input(\"Sayı\"))\n",
        "\n",
        "i=sayi\n",
        "bin=\"\";\n",
        "\n",
        "while(i>=2):\n",
        "    s=i%2;\n",
        "    bin=str(s)+bin;\n",
        "    i=i//2;\n",
        "\n",
        "bin=str(i)+bin;\n",
        "\n",
        "print(bin)"
      ],
      "metadata": {
        "colab": {
          "base_uri": "https://localhost:8080/"
        },
        "id": "SDUQYYPBQT9x",
        "outputId": "f3932e3c-0529-49f1-f13a-620d60adc22b"
      },
      "execution_count": 30,
      "outputs": [
        {
          "output_type": "stream",
          "name": "stdout",
          "text": [
            "Sayı1555\n",
            "11000010011\n"
          ]
        }
      ]
    },
    {
      "cell_type": "code",
      "source": [
        "def des2bin(sayi):\n",
        "    i=sayi\n",
        "    bin=\"\";\n",
        "\n",
        "    while(i>=2):\n",
        "        s=i%2;\n",
        "        bin=str(s)+bin;\n",
        "        i=i//2;\n",
        "\n",
        "    bin=str(i)+bin;\n",
        "    return bin\n",
        "\n",
        "sayi=int(input(\"Sayı :\"))\n",
        "bin=des2bin(sayi)\n",
        "print(bin)"
      ],
      "metadata": {
        "colab": {
          "base_uri": "https://localhost:8080/"
        },
        "id": "l63ls7dISLxa",
        "outputId": "1221717b-3474-44dc-d783-e2d1124d7fe2"
      },
      "execution_count": 34,
      "outputs": [
        {
          "output_type": "stream",
          "name": "stdout",
          "text": [
            "Sayı :155\n",
            "10011011\n"
          ]
        }
      ]
    },
    {
      "cell_type": "code",
      "source": [
        "def des2binR(sayi):\n",
        "    if(sayi==1 or sayi==0):\n",
        "        return str(i);\n",
        "    s     = sayi%2;\n",
        "    sayi =  sayi//2;\n",
        "    return str(s)+des2binR(sayi)\n",
        "\n",
        "sayi=int(input(\"Sayı :\"))\n",
        "bin=des2binR(sayi)\n",
        "print(bin)"
      ],
      "metadata": {
        "colab": {
          "base_uri": "https://localhost:8080/"
        },
        "id": "HGoDfBbiSfCi",
        "outputId": "dba0bf79-ef15-4b08-c76f-a7c82246ad50"
      },
      "execution_count": 36,
      "outputs": [
        {
          "output_type": "stream",
          "name": "stdout",
          "text": [
            "Sayı :155\n",
            "11011001\n"
          ]
        }
      ]
    },
    {
      "cell_type": "markdown",
      "source": [
        "4) Klavyeden girilen n=3 için;\n",
        "alttaki çıktıyı ekrana çıkaran\n",
        "\n",
        "\n",
        "```\n",
        "xxxxx\n",
        "x x x\n",
        "x x x\n",
        "x x x\n",
        "x   x\n",
        "\n",
        "x\n",
        "x\n",
        "xxxxx\n",
        "x  x\n",
        "x   x\n",
        "\n",
        "xxxxx\n",
        "x  x\n",
        "xxx\n",
        "x\n",
        "x\n",
        "\n",
        "\n",
        "```\n",
        "\n"
      ],
      "metadata": {
        "id": "u2SvcUvrTrNI"
      }
    },
    {
      "cell_type": "code",
      "source": [
        "n=int(input(\"n\"))\n",
        "\n",
        "ys=2*n-1\n",
        "\n",
        "for i in range(1,ys+1):\n",
        "    for t in range(1,ys+1):\n",
        "        if(i==1 or t==1 or t==ys or (t==n and i!=ys)):\n",
        "            print(\"x\",end=\"\")\n",
        "        else:\n",
        "            print(\" \",end=\"\")\n",
        "    print()\n"
      ],
      "metadata": {
        "colab": {
          "base_uri": "https://localhost:8080/"
        },
        "id": "ULet6fKSTqgM",
        "outputId": "ac1cfc57-b3ad-41d6-f8e8-c03bb0bc06f5"
      },
      "execution_count": 41,
      "outputs": [
        {
          "output_type": "stream",
          "name": "stdout",
          "text": [
            "n3\n",
            "xxxxx\n",
            "x x x\n",
            "x x x\n",
            "x x x\n",
            "x   x\n"
          ]
        }
      ]
    }
  ]
}