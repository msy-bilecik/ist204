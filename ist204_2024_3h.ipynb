{
  "nbformat": 4,
  "nbformat_minor": 0,
  "metadata": {
    "colab": {
      "provenance": [],
      "collapsed_sections": [
        "RzzskAtko8-E"
      ],
      "authorship_tag": "ABX9TyMpJ5vLF35RbLyudV5IRu0I",
      "include_colab_link": true
    },
    "kernelspec": {
      "name": "python3",
      "display_name": "Python 3"
    },
    "language_info": {
      "name": "python"
    }
  },
  "cells": [
    {
      "cell_type": "markdown",
      "metadata": {
        "id": "view-in-github",
        "colab_type": "text"
      },
      "source": [
        "<a href=\"https://colab.research.google.com/github/msy-bilecik/ist204/blob/main/ist204_2024_3h.ipynb\" target=\"_parent\"><img src=\"https://colab.research.google.com/assets/colab-badge.svg\" alt=\"Open In Colab\"/></a>"
      ]
    },
    {
      "cell_type": "markdown",
      "source": [
        "# DÖngüler"
      ],
      "metadata": {
        "id": "jBTPu1ozuVyX"
      }
    },
    {
      "cell_type": "code",
      "execution_count": null,
      "metadata": {
        "colab": {
          "base_uri": "https://localhost:8080/"
        },
        "id": "iRLdp_kQY7fe",
        "outputId": "ff310b07-5184-4dde-95e4-a2ab471c36d0"
      },
      "outputs": [
        {
          "output_type": "execute_result",
          "data": {
            "text/plain": [
              "0.17975830290548678"
            ]
          },
          "metadata": {},
          "execution_count": 1
        }
      ],
      "source": [
        "import random\n",
        "\n",
        "random.random()\n"
      ]
    },
    {
      "cell_type": "markdown",
      "source": [
        "1 ile 1000 arasında rastgele seçilen bir sayınının tam bölenlerini listeleyen programını yazınız."
      ],
      "metadata": {
        "id": "0nzpLqXOZWRt"
      }
    },
    {
      "cell_type": "code",
      "source": [
        "sayi = random.randint(1,1000)\n",
        "print(\"{} sayısının tam bölündüğü sayılar: \".format(sayi))\n",
        "for i in range(1,sayi+1):\n",
        "    if(sayi%i==0): # python girintiler ile bloklar oluşturulur.\n",
        "        print(i)\n",
        "    if(i==5):\n",
        "        print(\"5. eleman.\")\n",
        "\n",
        "# for(int i=0; i <=1000;i++)\n",
        "# {\n",
        "#     if(sayi%i==0)\n",
        "#     {\n",
        "#         print(i)\n",
        "#     }\n",
        "# }"
      ],
      "metadata": {
        "colab": {
          "base_uri": "https://localhost:8080/"
        },
        "id": "UZdeq0tjZOcC",
        "outputId": "32e351e3-2b04-4e16-e1b7-0d2961057e89"
      },
      "execution_count": null,
      "outputs": [
        {
          "output_type": "stream",
          "name": "stdout",
          "text": [
            "828 sayısının tam bölündüğü sayılar: \n",
            "1\n",
            "2\n",
            "3\n",
            "4\n",
            "5. eleman.\n",
            "6\n",
            "9\n",
            "12\n",
            "18\n",
            "23\n",
            "36\n",
            "46\n",
            "69\n",
            "92\n",
            "138\n",
            "207\n",
            "276\n",
            "414\n",
            "828\n"
          ]
        }
      ]
    },
    {
      "cell_type": "code",
      "source": [
        "a = 0\n",
        "while a < 100:\n",
        "    print(a)\n",
        "    a = a + 15\n",
        "\n",
        "for i in range(0,100+1,15):\n",
        "    print(i)"
      ],
      "metadata": {
        "colab": {
          "base_uri": "https://localhost:8080/"
        },
        "id": "nhSpMoyviJD2",
        "outputId": "2fefff3b-7e71-42c5-b899-d5613ed1b09d"
      },
      "execution_count": null,
      "outputs": [
        {
          "output_type": "stream",
          "name": "stdout",
          "text": [
            "0\n",
            "15\n",
            "30\n",
            "45\n",
            "60\n",
            "75\n",
            "90\n",
            "0\n",
            "15\n",
            "30\n",
            "45\n",
            "60\n",
            "75\n",
            "90\n"
          ]
        }
      ]
    },
    {
      "cell_type": "code",
      "source": [
        "for harfler in \"linux\":\n",
        "    print(harfler)"
      ],
      "metadata": {
        "colab": {
          "base_uri": "https://localhost:8080/"
        },
        "id": "ZXmM4A77jHbp",
        "outputId": "cb37ba50-47b2-4ae6-c456-6d327839fece"
      },
      "execution_count": null,
      "outputs": [
        {
          "output_type": "stream",
          "name": "stdout",
          "text": [
            "l$\n",
            "i$\n",
            "n$\n",
            "u$\n",
            "x$\n"
          ]
        }
      ]
    },
    {
      "cell_type": "code",
      "source": [
        "sayi=int(input(\"bir sayı giriniz: \"))\n",
        "durum=True\n",
        "for i in range(2,sayi):\n",
        "    print(i,end=\" - \")\n",
        "    if(sayi%i==0):\n",
        "        print(\"\\n\\n {} sayısına tam bölünür.\".format(i))\n",
        "        durum=False\n",
        "        break\n",
        "\n",
        "if(durum):\n",
        "    print(\"sayı asaldır. \")\n",
        "else:\n",
        "    print(\"sayı asal değildir.\")"
      ],
      "metadata": {
        "colab": {
          "base_uri": "https://localhost:8080/"
        },
        "id": "LASNpUP_kXj4",
        "outputId": "46098556-46ea-4f8d-8389-99d60e146891"
      },
      "execution_count": null,
      "outputs": [
        {
          "output_type": "stream",
          "name": "stdout",
          "text": [
            "bir sayı giriniz: 100\n",
            "2 - \n",
            "\n",
            " 2 sayısına tam bölünür.\n",
            "sayı asal değildir.\n"
          ]
        }
      ]
    },
    {
      "cell_type": "code",
      "source": [
        "i=15\n",
        "while i<1000:\n",
        "    print(i,end=\"_\")\n",
        "\n",
        "\n",
        "\n",
        "    if(i%180 == 0):\n",
        "        break\n",
        "\n",
        "    if(i%60 == 0):\n",
        "        i+=15\n",
        "        print(\"60 da çık. \")\n",
        "        continue\n",
        "\n",
        "    print(\"bir sayı daha yazdık. \")\n",
        "    i+=15"
      ],
      "metadata": {
        "colab": {
          "base_uri": "https://localhost:8080/"
        },
        "id": "0tBn1bj-mOwZ",
        "outputId": "bba80f85-f9b1-4131-aaa8-22311a093ddb"
      },
      "execution_count": null,
      "outputs": [
        {
          "output_type": "stream",
          "name": "stdout",
          "text": [
            "15_bir sayı daha yazdık. \n",
            "30_bir sayı daha yazdık. \n",
            "45_bir sayı daha yazdık. \n",
            "60_60 da çık. \n",
            "75_bir sayı daha yazdık. \n",
            "90_bir sayı daha yazdık. \n",
            "105_bir sayı daha yazdık. \n",
            "120_60 da çık. \n",
            "135_bir sayı daha yazdık. \n",
            "150_bir sayı daha yazdık. \n",
            "165_bir sayı daha yazdık. \n",
            "180_"
          ]
        }
      ]
    },
    {
      "cell_type": "markdown",
      "source": [
        "\n",
        "### ödev\n",
        "pi sayısın ilk 100000 basamağı içinde klavyeden girilen bilgiyi arayan kodu yazınız."
      ],
      "metadata": {
        "id": "RzzskAtko8-E"
      }
    },
    {
      "cell_type": "code",
      "source": [],
      "metadata": {
        "id": "gUv5MI0bpEnb"
      },
      "execution_count": null,
      "outputs": []
    },
    {
      "cell_type": "markdown",
      "source": [
        "## örnekler"
      ],
      "metadata": {
        "id": "GWorh2DS5ELN"
      }
    },
    {
      "cell_type": "code",
      "source": [
        "sayi=int(input(\"bir sayı giriniz:\"))\n",
        "i=0\n",
        "print(\"*\"*20)\n",
        "while i<sayi-2:\n",
        "    print(\"*\",end=\"\")\n",
        "    print(\"-\"*18,end=\"\")\n",
        "    print(\"*\")\n",
        "    i=i+1\n",
        "\n",
        "\n",
        "print(\"*\"*20)"
      ],
      "metadata": {
        "colab": {
          "base_uri": "https://localhost:8080/"
        },
        "id": "rAGoo3CM4-0u",
        "outputId": "50435ddb-a2c4-477e-a9d1-28e27e6f1b92"
      },
      "execution_count": null,
      "outputs": [
        {
          "output_type": "stream",
          "name": "stdout",
          "text": [
            "bir sayı giriniz:6\n",
            "********************\n",
            "*------------------*\n",
            "*------------------*\n",
            "*------------------*\n",
            "*------------------*\n",
            "********************\n"
          ]
        }
      ]
    },
    {
      "cell_type": "code",
      "source": [
        "sayi=int(input(\"bir sayı giriniz:\"))\n",
        "\n"
      ],
      "metadata": {
        "id": "iWLPu7g658pG"
      },
      "execution_count": null,
      "outputs": []
    },
    {
      "cell_type": "markdown",
      "source": [
        "# Listeler"
      ],
      "metadata": {
        "id": "Nh65cUJsuSnv"
      }
    },
    {
      "cell_type": "code",
      "source": [
        "bizimListe=[\"Ali\", \"Veli\", 49,50,63]  # tanımlama örneği\n",
        "print(bizimListe)\n",
        "\n",
        "print(bizimListe[2])  # elemana erişim örneği\n",
        "bizimListe[2]=99      # dizinin belli elemanını değer atama\n",
        "print(bizimListe[2])\n",
        "print(bizimListe)  #dizinin tamamını yazdıkmak için."
      ],
      "metadata": {
        "colab": {
          "base_uri": "https://localhost:8080/"
        },
        "id": "EofBC6TBuhCQ",
        "outputId": "0df9f6c4-215b-492d-d48a-9f56388c96da"
      },
      "execution_count": null,
      "outputs": [
        {
          "output_type": "stream",
          "name": "stdout",
          "text": [
            "['Ali', 'Veli', 49, 50, 63]\n",
            "49\n",
            "99\n",
            "['Ali', 'Veli', 99, 50, 63]\n"
          ]
        }
      ]
    },
    {
      "cell_type": "code",
      "source": [
        "metin=\"Kara kara kartallar karlı iyi tarlalar ararlar. \"\n",
        "print(metin[6])   # bir stringin aslında bir karakter dizisi\n",
        "                  # olduğunu gösterdik."
      ],
      "metadata": {
        "colab": {
          "base_uri": "https://localhost:8080/"
        },
        "id": "93_x7Y2DvDRW",
        "outputId": "7a765d0d-3c14-4cc2-9c6f-c636ef795f76"
      },
      "execution_count": null,
      "outputs": [
        {
          "output_type": "stream",
          "name": "stdout",
          "text": [
            " \n"
          ]
        }
      ]
    },
    {
      "cell_type": "markdown",
      "source": [
        "listeler ile ilgili fonksiyonlar\n"
      ],
      "metadata": {
        "id": "OBiKPQyxwCAm"
      }
    },
    {
      "cell_type": "code",
      "source": [
        "bizimListe=[\"Ali\", \"Veli\", [\"Hatice\",\"Veli\"],49,50,63]  # tanımlama örneği\n",
        "print(bizimListe)\n",
        "\n",
        "bizimListe.append(66)\n",
        "bizimListe.append(66)\n",
        "bizimListe.append(88)\n",
        "bizimListe.append(11)\n",
        "bizimListe.append(44)\n",
        "\n",
        "print(bizimListe)\n",
        "\n",
        "bizimListe.insert(1,\"Hatice\")\n",
        "print(bizimListe)\n",
        "bizimListe.insert(1,\"Ferda\")\n",
        "print(bizimListe)\n",
        "bizimListe.insert(1,\"Fatih\")\n",
        "print(bizimListe)\n",
        "\n",
        "\n",
        "bizimListe.remove([\"Hatice\",\"Veli\"])\n",
        "print(bizimListe)"
      ],
      "metadata": {
        "colab": {
          "base_uri": "https://localhost:8080/"
        },
        "id": "-NDIy-uSwFIi",
        "outputId": "2a2f4741-0f52-4207-9d3f-d8235dd08113"
      },
      "execution_count": null,
      "outputs": [
        {
          "output_type": "stream",
          "name": "stdout",
          "text": [
            "['Ali', 'Veli', ['Hatice', 'Veli'], 49, 50, 63]\n",
            "['Ali', 'Veli', ['Hatice', 'Veli'], 49, 50, 63, 66, 66, 88, 11, 44]\n",
            "['Ali', 'Hatice', 'Veli', ['Hatice', 'Veli'], 49, 50, 63, 66, 66, 88, 11, 44]\n",
            "['Ali', 'Ferda', 'Hatice', 'Veli', ['Hatice', 'Veli'], 49, 50, 63, 66, 66, 88, 11, 44]\n",
            "['Ali', 'Fatih', 'Ferda', 'Hatice', 'Veli', ['Hatice', 'Veli'], 49, 50, 63, 66, 66, 88, 11, 44]\n",
            "['Ali', 'Fatih', 'Ferda', 'Hatice', 'Veli', 49, 50, 63, 66, 66, 88, 11, 44]\n"
          ]
        }
      ]
    },
    {
      "cell_type": "code",
      "source": [
        "liste = [\"Hale\", \"Jale\", \"Lale\", 12, 23, \"Mehmet\",\"Jale\",\"Mehmet\",\"Jale\"]\n",
        "l2=liste.copy()\n",
        "print(liste)\n",
        "yeni_liste = [\"Simovic\", \"Prekazi\", \"Jardel\", \"Nouma\"]\n",
        "print(yeni_liste)\n",
        "\n",
        "l2.extend(yeni_liste)\n",
        "print(l2)\n",
        "\n",
        "liste=liste+yeni_liste\n",
        "print(liste)"
      ],
      "metadata": {
        "colab": {
          "base_uri": "https://localhost:8080/"
        },
        "id": "UylgOXnvw8-Z",
        "outputId": "91f3f708-dab4-40dd-f285-dd3570ff1753"
      },
      "execution_count": null,
      "outputs": [
        {
          "output_type": "stream",
          "name": "stdout",
          "text": [
            "['Hale', 'Jale', 'Lale', 12, 23, 'Mehmet', 'Jale', 'Mehmet', 'Jale']\n",
            "['Simovic', 'Prekazi', 'Jardel', 'Nouma']\n",
            "['Hale', 'Jale', 'Lale', 12, 23, 'Mehmet', 'Jale', 'Mehmet', 'Jale', 'Simovic', 'Prekazi', 'Jardel', 'Nouma']\n",
            "['Hale', 'Jale', 'Lale', 12, 23, 'Mehmet', 'Jale', 'Mehmet', 'Jale', 'Simovic', 'Prekazi', 'Jardel', 'Nouma']\n"
          ]
        }
      ]
    },
    {
      "cell_type": "code",
      "source": [
        "print(liste)\n",
        "print(liste.pop())\n",
        "print(liste)\n",
        "\n",
        "print(liste.remove(\"Jale\"))\n",
        "print(liste)\n",
        "\n",
        "print(liste.pop(2))\n",
        "print(liste)\n"
      ],
      "metadata": {
        "colab": {
          "base_uri": "https://localhost:8080/"
        },
        "id": "EINm8JnDynC9",
        "outputId": "1e948d85-7dc7-4b6c-b7a8-a26f6796e6e1"
      },
      "execution_count": null,
      "outputs": [
        {
          "output_type": "stream",
          "name": "stdout",
          "text": [
            "['Hale', 'Jale', 'Lale', 12, 23, 'Mehmet', 'Jale', 'Mehmet', 'Jale', 'Simovic', 'Prekazi', 'Jardel', 'Nouma']\n",
            "Nouma\n",
            "['Hale', 'Jale', 'Lale', 12, 23, 'Mehmet', 'Jale', 'Mehmet', 'Jale', 'Simovic', 'Prekazi', 'Jardel']\n",
            "None\n",
            "['Hale', 'Lale', 12, 23, 'Mehmet', 'Jale', 'Mehmet', 'Jale', 'Simovic', 'Prekazi', 'Jardel']\n",
            "12\n",
            "['Hale', 'Lale', 23, 'Mehmet', 'Jale', 'Mehmet', 'Jale', 'Simovic', 'Prekazi', 'Jardel']\n"
          ]
        }
      ]
    },
    {
      "cell_type": "code",
      "source": [
        "liste = [\"Hale\", \"Jale\",\"Hüseyin\", \"Lale\", \"Mehmet\",\"Jale\",\"Mehmet\",\"Jale\"]\n",
        "print(liste.index(\"Jale\"))\n",
        "\n",
        "print(liste)\n",
        "\n",
        "liste.sort()\n",
        "print(liste)\n",
        "\n",
        "liste.reverse()\n",
        "print(liste)\n",
        "\n",
        "print(liste.count(\"Mehmet\"))\n"
      ],
      "metadata": {
        "colab": {
          "base_uri": "https://localhost:8080/"
        },
        "id": "dWb1MWo88m1Q",
        "outputId": "9d55f9ac-953b-4508-e473-a9bb8617e53a"
      },
      "execution_count": null,
      "outputs": [
        {
          "output_type": "stream",
          "name": "stdout",
          "text": [
            "1\n",
            "['Hale', 'Jale', 'Hüseyin', 'Lale', 'Mehmet', 'Jale', 'Mehmet', 'Jale']\n",
            "['Hale', 'Hüseyin', 'Jale', 'Jale', 'Jale', 'Lale', 'Mehmet', 'Mehmet']\n",
            "['Mehmet', 'Mehmet', 'Lale', 'Jale', 'Jale', 'Jale', 'Hüseyin', 'Hale']\n",
            "2\n",
            "Hüseyin\n"
          ]
        }
      ]
    },
    {
      "cell_type": "code",
      "source": [
        "liste = [\"Hale\", \"Jale\",\"Hüseyin\", \"Lale\", \"Mehmet\",\"Jale\",\"Mehmet\",\"Jale\"]\n",
        "\n",
        "print(liste[2:4])\n",
        "\n",
        "print(liste[:5])\n",
        "print(liste[3:])"
      ],
      "metadata": {
        "colab": {
          "base_uri": "https://localhost:8080/"
        },
        "id": "Lzewj9bs9cwN",
        "outputId": "53cc2a81-0f9d-4c76-b9fb-94cb8231f6b6"
      },
      "execution_count": null,
      "outputs": [
        {
          "output_type": "stream",
          "name": "stdout",
          "text": [
            "['Hüseyin', 'Lale']\n",
            "['Hale', 'Jale', 'Hüseyin', 'Lale', 'Mehmet']\n",
            "['Lale', 'Mehmet', 'Jale', 'Mehmet', 'Jale']\n"
          ]
        }
      ]
    },
    {
      "cell_type": "code",
      "source": [
        "liste = [\"elma\", \"armut\", \"kiraz\", \"karpuz\", \"kavun\"]\n",
        "print(liste)\n",
        "liste[5:5] = [\"domates\", \"salata\"]\n",
        "print(liste)\n",
        "\n",
        "liste[3:3] = [\"kebap\", \"lahmacun\"]\n",
        "print(liste)\n",
        "\n",
        "liste[2] = [\"ruj\", \"maskara\", \"rimel\"]\n",
        "print(liste)\n",
        "print(liste[2][0])\n",
        "\n",
        "liste[2:4]=[]\n",
        "print(liste)"
      ],
      "metadata": {
        "colab": {
          "base_uri": "https://localhost:8080/"
        },
        "id": "VsYUfL8a99jV",
        "outputId": "f10bc31f-b068-4d42-c6e4-1742e9107315"
      },
      "execution_count": null,
      "outputs": [
        {
          "output_type": "stream",
          "name": "stdout",
          "text": [
            "['elma', 'armut', 'kiraz', 'karpuz', 'kavun']\n",
            "['elma', 'armut', 'kiraz', 'karpuz', 'kavun', 'domates', 'salata']\n",
            "['elma', 'armut', 'kiraz', 'kebap', 'lahmacun', 'karpuz', 'kavun', 'domates', 'salata']\n",
            "['elma', 'armut', ['ruj', 'maskara', 'rimel'], 'kebap', 'lahmacun', 'karpuz', 'kavun', 'domates', 'salata']\n",
            "ruj\n",
            "['elma', 'armut', 'lahmacun', 'karpuz', 'kavun', 'domates', 'salata']\n"
          ]
        }
      ]
    }
  ]
}