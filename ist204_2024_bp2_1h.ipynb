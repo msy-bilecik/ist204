{
  "nbformat": 4,
  "nbformat_minor": 0,
  "metadata": {
    "colab": {
      "provenance": [],
      "authorship_tag": "ABX9TyNpFzExcUDOCDusDuIrhFfb",
      "include_colab_link": true
    },
    "kernelspec": {
      "name": "python3",
      "display_name": "Python 3"
    },
    "language_info": {
      "name": "python"
    }
  },
  "cells": [
    {
      "cell_type": "markdown",
      "metadata": {
        "id": "view-in-github",
        "colab_type": "text"
      },
      "source": [
        "<a href=\"https://colab.research.google.com/github/msy-bilecik/ist204/blob/main/ist204_2024_bp2_1h.ipynb\" target=\"_parent\"><img src=\"https://colab.research.google.com/assets/colab-badge.svg\" alt=\"Open In Colab\"/></a>"
      ]
    },
    {
      "cell_type": "code",
      "source": [
        "print(\"\"\"\n",
        "[H]=========IST204========[-][o][x]\n",
        "|                                 |\n",
        "|     Dersimize Hoşgeldiniz!      |\n",
        "|           Sürüm 2024.01         |\n",
        "|    Devam etmek için herhangi    |\n",
        "|       bir düğmeye basın.        |\n",
        "|                                 |\n",
        "|=================================|\n",
        "\"\"\")"
      ],
      "metadata": {
        "colab": {
          "base_uri": "https://localhost:8080/"
        },
        "id": "KaIx0X4BogPi",
        "outputId": "eadb8511-81bc-4898-94fe-354eb51f5012"
      },
      "execution_count": null,
      "outputs": [
        {
          "output_type": "stream",
          "name": "stdout",
          "text": [
            "\n",
            "[H]=========IST204========[-][o][x]\n",
            "|                                 |\n",
            "|     Dersimize Hoşgeldiniz!      |\n",
            "|           Sürüm 2024.01         |\n",
            "|    Devam etmek için herhangi    |\n",
            "|       bir düğmeye basın.        |\n",
            "|                                 |\n",
            "|=================================|\n",
            "\n"
          ]
        }
      ]
    },
    {
      "cell_type": "code",
      "source": [
        "a=5\n",
        "b=55\n",
        "c=a+b\n",
        "print(c)"
      ],
      "metadata": {
        "colab": {
          "base_uri": "https://localhost:8080/"
        },
        "id": "_HFHgonASHYk",
        "outputId": "9e725535-2ac3-4c4f-cf7a-b821ca817e07"
      },
      "execution_count": null,
      "outputs": [
        {
          "output_type": "stream",
          "name": "stdout",
          "text": [
            "60\n"
          ]
        }
      ]
    },
    {
      "cell_type": "code",
      "source": [
        "print(\"metin\")"
      ],
      "metadata": {
        "colab": {
          "base_uri": "https://localhost:8080/"
        },
        "id": "I1GM15QpZbuK",
        "outputId": "bea225b8-bb1a-4d1e-86b5-fdfd1eafd2ac"
      },
      "execution_count": null,
      "outputs": [
        {
          "output_type": "stream",
          "name": "stdout",
          "text": [
            "metin\n"
          ]
        }
      ]
    },
    {
      "cell_type": "code",
      "source": [
        "print(\"Linux'un faydaları\")"
      ],
      "metadata": {
        "colab": {
          "base_uri": "https://localhost:8080/"
        },
        "id": "X3zQgcsHaJpX",
        "outputId": "dee47643-34a0-4481-cbe6-e39c218d20de"
      },
      "execution_count": null,
      "outputs": [
        {
          "output_type": "stream",
          "name": "stdout",
          "text": [
            "Linux\"un faydaları\n"
          ]
        }
      ]
    },
    {
      "cell_type": "code",
      "source": [
        "print(588+99)\n",
        "print(2**5)\n",
        "print(10%3)\n",
        "\n",
        "print(25+50)\n",
        "\n",
        "print(\"25 + 50\")\n",
        "print(\"25\" + \"50\")"
      ],
      "metadata": {
        "colab": {
          "base_uri": "https://localhost:8080/",
          "height": 263
        },
        "id": "75712coNa1xB",
        "outputId": "3525442b-99a7-4f4e-8b8d-2f3927a5b798"
      },
      "execution_count": null,
      "outputs": [
        {
          "output_type": "stream",
          "name": "stdout",
          "text": [
            "687\n",
            "32\n",
            "1\n",
            "75\n",
            "25 + 50\n"
          ]
        },
        {
          "output_type": "error",
          "ename": "TypeError",
          "evalue": "unsupported operand type(s) for +: 'int' and 'str'",
          "traceback": [
            "\u001b[0;31m---------------------------------------------------------------------------\u001b[0m",
            "\u001b[0;31mTypeError\u001b[0m                                 Traceback (most recent call last)",
            "\u001b[0;32m<ipython-input-24-bd413f5552dd>\u001b[0m in \u001b[0;36m<cell line: 8>\u001b[0;34m()\u001b[0m\n\u001b[1;32m      6\u001b[0m \u001b[0;34m\u001b[0m\u001b[0m\n\u001b[1;32m      7\u001b[0m \u001b[0mprint\u001b[0m\u001b[0;34m(\u001b[0m\u001b[0;34m\"25 + 50\"\u001b[0m\u001b[0;34m)\u001b[0m\u001b[0;34m\u001b[0m\u001b[0;34m\u001b[0m\u001b[0m\n\u001b[0;32m----> 8\u001b[0;31m \u001b[0mprint\u001b[0m\u001b[0;34m(\u001b[0m\u001b[0;36m25\u001b[0m \u001b[0;34m+\u001b[0m \u001b[0;34m\"50\"\u001b[0m\u001b[0;34m)\u001b[0m\u001b[0;34m\u001b[0m\u001b[0;34m\u001b[0m\u001b[0m\n\u001b[0m",
            "\u001b[0;31mTypeError\u001b[0m: unsupported operand type(s) for +: 'int' and 'str'"
          ]
        }
      ]
    },
    {
      "cell_type": "code",
      "source": [
        "print(10/2)\n",
        "print(10/3)"
      ],
      "metadata": {
        "colab": {
          "base_uri": "https://localhost:8080/"
        },
        "id": "bXxNQLNPb2dU",
        "outputId": "ba37822c-7748-4c5c-ecc3-3425fc9365fe"
      },
      "execution_count": null,
      "outputs": [
        {
          "output_type": "stream",
          "name": "stdout",
          "text": [
            "5.0\n",
            "3\n"
          ]
        }
      ]
    },
    {
      "cell_type": "code",
      "source": [
        "print(2 + 6 / 3 * 5 - 4)"
      ],
      "metadata": {
        "colab": {
          "base_uri": "https://localhost:8080/"
        },
        "id": "AjVqyFNPcNr7",
        "outputId": "2225ad32-3040-4610-cc55-6c3f6f1aa6a8"
      },
      "execution_count": null,
      "outputs": [
        {
          "output_type": "stream",
          "name": "stdout",
          "text": [
            "8.0\n"
          ]
        }
      ]
    },
    {
      "cell_type": "code",
      "source": [
        "a=55\n",
        "b=12\n",
        "print(\"{} * {} = {}\".format(a,b,a*b))\n",
        "print(\"{0} * {1} = {2}\".format(a,b,a*b))\n",
        "print(\"{bir} * {iki} = {sonuc}\".format(bir=a,iki=b,sonuc=a*b))\n",
        "print(str(a) +\" * \"+ str(b) + \" = \"+ str(a*b))\n",
        "print(\"iki sayının çarpımı \" + str(a*b) +\" dır\")\n",
        "print(\"%s ile %s çarpılırsa %s elde edilir\" %(a, b, a*b))"
      ],
      "metadata": {
        "colab": {
          "base_uri": "https://localhost:8080/"
        },
        "id": "9QA0F6yBcvNI",
        "outputId": "cd42bb2c-fe7e-4c19-cc9f-ece9d5fecb62"
      },
      "execution_count": null,
      "outputs": [
        {
          "output_type": "stream",
          "name": "stdout",
          "text": [
            "55 * 12 = 660\n",
            "55 * 12 = 660\n",
            "55 * 12 = 660\n",
            "55 * 12 = 660\n",
            "iki sayının çarpımı 660 dır\n",
            "55 ile 12 çarpılırsa 660 elde edilir\n"
          ]
        }
      ]
    },
    {
      "cell_type": "code",
      "source": [
        "print(pow(16,2))\n",
        "print(pow(16,3,6))"
      ],
      "metadata": {
        "colab": {
          "base_uri": "https://localhost:8080/"
        },
        "id": "GM9doGtDiByX",
        "outputId": "963677c0-f36a-44bc-e502-746674c265b5"
      },
      "execution_count": null,
      "outputs": [
        {
          "output_type": "stream",
          "name": "stdout",
          "text": [
            "256\n",
            "4\n"
          ]
        }
      ]
    },
    {
      "cell_type": "code",
      "source": [
        "d=e=f=9\n",
        "\n",
        "55<a && a>10\n",
        "\n",
        "10<a<55\n",
        "\n",
        "print(e)"
      ],
      "metadata": {
        "colab": {
          "base_uri": "https://localhost:8080/"
        },
        "id": "hTsS9muzm9id",
        "outputId": "a7e22568-a77c-4323-db7f-bdcc25895451"
      },
      "execution_count": null,
      "outputs": [
        {
          "output_type": "stream",
          "name": "stdout",
          "text": [
            "9\n"
          ]
        }
      ]
    },
    {
      "cell_type": "code",
      "source": [
        "osman = \"Araştırma Geliştirme Müdürü\"\n",
        "mehmet = \"Proje Sorumlusu\"\n",
        "print(osman)\n",
        "print(mehmet)\n",
        "\n",
        "osman, mehmet = mehmet,osman\n",
        "\n",
        "print(osman)\n",
        "print(mehmet)\n",
        "\n",
        "print(len(mehmet))\n"
      ],
      "metadata": {
        "colab": {
          "base_uri": "https://localhost:8080/"
        },
        "id": "azp7LBuGnaRE",
        "outputId": "135b4edd-17fa-44af-9fb8-213a7fb66a0b"
      },
      "execution_count": null,
      "outputs": [
        {
          "output_type": "stream",
          "name": "stdout",
          "text": [
            "Araştırma Geliştirme Müdürü\n",
            "Proje Sorumlusu\n",
            "Proje Sorumlusu\n",
            "Araştırma Geliştirme Müdürü\n",
            "27\n"
          ]
        }
      ]
    }
  ]
}