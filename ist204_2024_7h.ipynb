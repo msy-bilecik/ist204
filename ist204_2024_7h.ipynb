{
  "nbformat": 4,
  "nbformat_minor": 0,
  "metadata": {
    "colab": {
      "provenance": [],
      "authorship_tag": "ABX9TyNGRvu/xkoI/kb/Rb1kpgXG",
      "include_colab_link": true
    },
    "kernelspec": {
      "name": "python3",
      "display_name": "Python 3"
    },
    "language_info": {
      "name": "python"
    }
  },
  "cells": [
    {
      "cell_type": "markdown",
      "metadata": {
        "id": "view-in-github",
        "colab_type": "text"
      },
      "source": [
        "<a href=\"https://colab.research.google.com/github/msy-bilecik/ist204/blob/main/ist204_2024_7h.ipynb\" target=\"_parent\"><img src=\"https://colab.research.google.com/assets/colab-badge.svg\" alt=\"Open In Colab\"/></a>"
      ]
    },
    {
      "cell_type": "code",
      "execution_count": null,
      "metadata": {
        "id": "thHCXnzb5Rwc"
      },
      "outputs": [],
      "source": [
        "import fx2\n",
        "import fx\n",
        "\n"
      ]
    },
    {
      "cell_type": "code",
      "source": [
        "import importlib\n",
        "importlib.reload(fx2)"
      ],
      "metadata": {
        "colab": {
          "base_uri": "https://localhost:8080/"
        },
        "id": "jGXL0n4s62wB",
        "outputId": "419d7fb8-deb1-49af-efe6-286486481b96"
      },
      "execution_count": null,
      "outputs": [
        {
          "output_type": "execute_result",
          "data": {
            "text/plain": [
              "<module 'fx2' from '/content/fx2.py'>"
            ]
          },
          "metadata": {},
          "execution_count": 2
        }
      ]
    },
    {
      "cell_type": "code",
      "source": [
        "\n",
        "print(fx2.carp([9,6,3]))\n",
        "\n",
        "print(fx.faktoriyel(5))"
      ],
      "metadata": {
        "colab": {
          "base_uri": "https://localhost:8080/"
        },
        "id": "RpqRgGNw6uUn",
        "outputId": "ec8de536-e816-4817-d295-215cdc4e4347"
      },
      "execution_count": null,
      "outputs": [
        {
          "output_type": "stream",
          "name": "stdout",
          "text": [
            "1296\n",
            "None\n",
            "120\n"
          ]
        }
      ]
    },
    {
      "cell_type": "code",
      "source": [
        "dir(fx2)"
      ],
      "metadata": {
        "colab": {
          "base_uri": "https://localhost:8080/"
        },
        "id": "19eJvOqm6cjt",
        "outputId": "4d9ff6f8-83dd-4181-9b48-e8c984650aea"
      },
      "execution_count": null,
      "outputs": [
        {
          "output_type": "execute_result",
          "data": {
            "text/plain": [
              "['__builtins__',\n",
              " '__cached__',\n",
              " '__doc__',\n",
              " '__file__',\n",
              " '__loader__',\n",
              " '__name__',\n",
              " '__package__',\n",
              " '__spec__',\n",
              " 'carp']"
            ]
          },
          "metadata": {},
          "execution_count": 4
        }
      ]
    },
    {
      "cell_type": "code",
      "source": [
        "from fx2 import carp\n",
        "\n",
        "carp([9,3,2])"
      ],
      "metadata": {
        "colab": {
          "base_uri": "https://localhost:8080/"
        },
        "id": "RDm2ZDpy7Wxp",
        "outputId": "fde281ca-bd95-4894-875b-e4ef76f549c1"
      },
      "execution_count": null,
      "outputs": [
        {
          "output_type": "stream",
          "name": "stdout",
          "text": [
            "432\n"
          ]
        }
      ]
    },
    {
      "cell_type": "code",
      "source": [
        "from fx import *\n",
        "\n",
        "r_ussu(5,3)"
      ],
      "metadata": {
        "colab": {
          "base_uri": "https://localhost:8080/"
        },
        "id": "AwaBKQNx7mwE",
        "outputId": "9614c1e2-7b80-4303-dd91-de36890e0047"
      },
      "execution_count": null,
      "outputs": [
        {
          "output_type": "execute_result",
          "data": {
            "text/plain": [
              "125"
            ]
          },
          "metadata": {},
          "execution_count": 7
        }
      ]
    },
    {
      "cell_type": "code",
      "source": [
        "import fx as burcu\n",
        "\n",
        "burcu.ussu(5,3)"
      ],
      "metadata": {
        "colab": {
          "base_uri": "https://localhost:8080/"
        },
        "id": "UEd6Cp_n-FU8",
        "outputId": "e8ce8695-3226-414b-809b-2201f5be919a"
      },
      "execution_count": null,
      "outputs": [
        {
          "output_type": "execute_result",
          "data": {
            "text/plain": [
              "125"
            ]
          },
          "metadata": {},
          "execution_count": 8
        }
      ]
    },
    {
      "cell_type": "code",
      "source": [
        "import fx           # fx modulünü direk ekliyor.\n",
        "                    #               fx.ussu(a,b)\n",
        "from fx import ussu # fx modulünden ussu fonksiyonunu ekler.\n",
        "                    #               ussu(a,b)\n",
        "from fx import *    # fx modülündeki tüm fonksiyonları ismiyle import eder.\n",
        "                    #               ussu(a,b)\n",
        "import fx as f      # fx modülündeki tüm fonksiyonları import eder.\n",
        "                    #               f.ussu(a,b)\n",
        "\n"
      ],
      "metadata": {
        "id": "SLukR4z2-g2-"
      },
      "execution_count": null,
      "outputs": []
    },
    {
      "cell_type": "markdown",
      "source": [
        "soru)\n",
        "\n",
        "c/100= (f-32) /180\n",
        "\n",
        "klavyeden girilen santigratı dereceyi fahrenayt a çeviren programı yazınız.\n",
        "Program 10puan\n",
        "fonksiyon +5 puan"
      ],
      "metadata": {
        "id": "POQzuLnXAB9K"
      }
    },
    {
      "cell_type": "markdown",
      "source": [
        "soru) klavyeden girilen n defa; x ve y sayıları kullanıdan alınacak her seferinde toplamları, farkları, çarpımları ekrana yazılacaktır.\n",
        "* eğer ikisi eşitse işlemler yapılmadan ve n beklenmeden çıkılacaktır.\n",
        "\n",
        "program 15puan * lı kısım +5 puan\n",
        "her fonksiyon 5"
      ],
      "metadata": {
        "id": "f3nGTms3Acic"
      }
    },
    {
      "cell_type": "code",
      "source": [
        "def islemler(x,y):\n",
        "    print(\"{} + {} ={}\".format(x,y,x+y))\n",
        "    print(\"{} - {} ={}\".format(x,y,x-y))\n",
        "    print(\"{} * {} ={}\".format(x,y,x*y))\n",
        "\n",
        "\n",
        "\n",
        "n=int(input(\"n sayısını giriniz:\"))\n",
        "\n",
        "i=1\n",
        "while(i<=n):\n",
        "    x=int(input(\"{}. sefer X sayısını giriniz: \".format(i)))\n",
        "    y=int(input(\"{}. sefer Y sayısını giriniz: \".format(i)))\n",
        "    if(x==y):\n",
        "        print(\"ikisi eşit olduğu için çıkılıyor. \")\n",
        "        break\n",
        "    islemler(x,y)\n",
        "\n",
        "\n",
        "    i+=1\n"
      ],
      "metadata": {
        "colab": {
          "base_uri": "https://localhost:8080/"
        },
        "id": "5dWHsDVx__i6",
        "outputId": "b0cdc2f9-6c16-4ac2-9d84-5352c52da949"
      },
      "execution_count": null,
      "outputs": [
        {
          "name": "stdout",
          "output_type": "stream",
          "text": [
            "n sayısını giriniz:66\n",
            "1. sefer X sayısını giriniz: 22\n",
            "1. sefer Y sayısını giriniz: 11\n",
            "22 + 11 =33\n",
            "22 - 11 =11\n",
            "22 * 11 =242\n",
            "2. sefer X sayısını giriniz: 33\n",
            "2. sefer Y sayısını giriniz: 22\n",
            "33 + 22 =55\n",
            "33 - 22 =11\n",
            "33 * 22 =726\n",
            "3. sefer X sayısını giriniz: 11\n",
            "3. sefer Y sayısını giriniz: 11\n"
          ]
        }
      ]
    },
    {
      "cell_type": "markdown",
      "source": [
        "soru) klavyeden girilen 2 sayının EKOK ve EBOB'unu bulan programı yazınız.\n",
        "\n",
        "program 15 fonksiyon10\n",
        "\n",
        "\n",
        "soru) klavyeden girilen n 'e göre aşağıdaki denklemleri çözen fonksiyonları yazınız.\n",
        "*   1/2 + 2/3 + 3/4 + ... + n/n+1\n",
        "*   1!/2! + 2!/3! + 3!/4! + ... + n!/(n+1)!\n",
        "*   f(1)+f(2)+....+f(n)\n",
        "\n",
        "f(x)={x^2, x<0;   x^2 + 8 , 0<=x<=20; (x+2)^2+2  ,x>20\n",
        "\n",
        "soru)"
      ],
      "metadata": {
        "id": "WnyajNp-Ex_i"
      }
    },
    {
      "cell_type": "code",
      "source": [],
      "metadata": {
        "id": "7RLk0Ex3D_TC"
      },
      "execution_count": null,
      "outputs": []
    }
  ]
}